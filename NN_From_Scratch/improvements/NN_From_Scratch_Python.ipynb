{
 "cells": [
  {
   "cell_type": "markdown",
   "metadata": {
    "colab_type": "text",
    "id": "cEG1dhnuNFRk"
   },
   "source": [
    "## Steps to build a Neural Network in NumPy\n",
    "\n",
    "---\n",
    "\n",
    "#### 1. Load the dataset \n",
    "#### 2. Define architecture of the model \n",
    "#### 3. Initialize the parameters\n",
    "#### 4. Implement forward propagation\n",
    "#### 5. Implement backward propagation\n",
    "#### 6. Train the model for multiple epochs \n",
    "\n",
    "---"
   ]
  },
  {
   "cell_type": "markdown",
   "metadata": {
    "colab_type": "text",
    "id": "sbgj7HfHNFRr"
   },
   "source": [
    "### 1. Load the dataset "
   ]
  },
  {
   "cell_type": "code",
   "execution_count": 1,
   "metadata": {
    "colab": {},
    "colab_type": "code",
    "id": "E5S9HgBzNFRw"
   },
   "outputs": [],
   "source": [
    "# importing required libraries\n",
    "%matplotlib inline\n",
    "\n",
    "import numpy as np\n",
    "import matplotlib.pyplot as plt"
   ]
  },
  {
   "cell_type": "code",
   "execution_count": 2,
   "metadata": {
    "colab": {
     "base_uri": "https://localhost:8080/",
     "height": 34
    },
    "colab_type": "code",
    "executionInfo": {
     "elapsed": 1657,
     "status": "ok",
     "timestamp": 1585485745721,
     "user": {
      "displayName": "Pulkit Sharma",
      "photoUrl": "",
      "userId": "07234574884764057306"
     },
     "user_tz": -330
    },
    "id": "ogs6CaXu2zeZ",
    "outputId": "f5055dbe-331b-461c-a1a1-13d28149d528"
   },
   "outputs": [
    {
     "name": "stdout",
     "output_type": "stream",
     "text": [
      "Version of numpy: 1.18.1\n"
     ]
    }
   ],
   "source": [
    "# version of numpy library\n",
    "print(\"Version of numpy:\", np.__version__)"
   ]
  },
  {
   "cell_type": "code",
   "execution_count": 3,
   "metadata": {
    "colab": {
     "base_uri": "https://localhost:8080/",
     "height": 34
    },
    "colab_type": "code",
    "executionInfo": {
     "elapsed": 1788,
     "status": "ok",
     "timestamp": 1585485751574,
     "user": {
      "displayName": "Pulkit Sharma",
      "photoUrl": "",
      "userId": "07234574884764057306"
     },
     "user_tz": -330
    },
    "id": "vNmvxGv723N6",
    "outputId": "340278d2-64d4-43b2-fd9e-02585dc66d21"
   },
   "outputs": [
    {
     "name": "stdout",
     "output_type": "stream",
     "text": [
      "Version of matplotlib: 3.1.3\n"
     ]
    }
   ],
   "source": [
    "# version of matplotlib library\n",
    "import matplotlib\n",
    "\n",
    "print(\"Version of matplotlib:\", matplotlib.__version__)"
   ]
  },
  {
   "cell_type": "code",
   "execution_count": 4,
   "metadata": {},
   "outputs": [],
   "source": [
    "# set random seed\n",
    "np.random.seed(42)"
   ]
  },
  {
   "cell_type": "code",
   "execution_count": 5,
   "metadata": {
    "colab": {
     "base_uri": "https://localhost:8080/",
     "height": 139
    },
    "colab_type": "code",
    "executionInfo": {
     "elapsed": 1409,
     "status": "ok",
     "timestamp": 1585485752142,
     "user": {
      "displayName": "Pulkit Sharma",
      "photoUrl": "",
      "userId": "07234574884764057306"
     },
     "user_tz": -330
    },
    "id": "H_h7HoPONFR_",
    "outputId": "552026b7-f129-41e9-c8f4-22a4c9d80e6e"
   },
   "outputs": [
    {
     "name": "stdout",
     "output_type": "stream",
     "text": [
      "Input:\n",
      " [[1 0 0 0]\n",
      " [1 0 1 1]\n",
      " [0 1 0 1]]\n",
      "\n",
      "Shape of Input: (3, 4)\n"
     ]
    }
   ],
   "source": [
    "# creating the input array\n",
    "X = np.array([[1, 0, 0, 0], [1, 0, 1, 1], [0, 1, 0, 1]])\n",
    "\n",
    "print(\"Input:\\n\", X)\n",
    "\n",
    "# shape of input array\n",
    "print(\"\\nShape of Input:\", X.shape)"
   ]
  },
  {
   "cell_type": "code",
   "execution_count": 6,
   "metadata": {
    "colab": {
     "base_uri": "https://localhost:8080/",
     "height": 156
    },
    "colab_type": "code",
    "executionInfo": {
     "elapsed": 3240,
     "status": "ok",
     "timestamp": 1585485756254,
     "user": {
      "displayName": "Pulkit Sharma",
      "photoUrl": "",
      "userId": "07234574884764057306"
     },
     "user_tz": -330
    },
    "id": "LVvQz5g39wo3",
    "outputId": "e0f22a43-1caa-4ca0-bfdd-0168c8853d6b"
   },
   "outputs": [
    {
     "name": "stdout",
     "output_type": "stream",
     "text": [
      "Input in matrix form:\n",
      " [[1 1 0]\n",
      " [0 0 1]\n",
      " [0 1 0]\n",
      " [0 1 1]]\n",
      "\n",
      "Shape of Input Matrix: (4, 3)\n"
     ]
    }
   ],
   "source": [
    "# converting the input in matrix form\n",
    "X = X.T\n",
    "print(\"Input in matrix form:\\n\", X)\n",
    "\n",
    "# shape of input matrix\n",
    "print(\"\\nShape of Input Matrix:\", X.shape)"
   ]
  },
  {
   "cell_type": "code",
   "execution_count": 7,
   "metadata": {
    "colab": {
     "base_uri": "https://localhost:8080/",
     "height": 191
    },
    "colab_type": "code",
    "executionInfo": {
     "elapsed": 3079,
     "status": "ok",
     "timestamp": 1585485756256,
     "user": {
      "displayName": "Pulkit Sharma",
      "photoUrl": "",
      "userId": "07234574884764057306"
     },
     "user_tz": -330
    },
    "id": "IRe8JE0xNFSL",
    "outputId": "bd0f8cc4-140c-4788-fe12-0967af4b0f0f"
   },
   "outputs": [
    {
     "name": "stdout",
     "output_type": "stream",
     "text": [
      "Actual Output:\n",
      " [[1]\n",
      " [1]\n",
      " [0]]\n",
      "\n",
      "Output in matrix form:\n",
      " [[1 1 0]]\n",
      "\n",
      "Shape of Output: (1, 3)\n"
     ]
    }
   ],
   "source": [
    "# creating the output array\n",
    "y = np.array([[1], [1], [0]])\n",
    "\n",
    "print(\"Actual Output:\\n\", y)\n",
    "\n",
    "# output in matrix form\n",
    "y = y.T\n",
    "\n",
    "print(\"\\nOutput in matrix form:\\n\", y)\n",
    "\n",
    "# shape of input array\n",
    "print(\"\\nShape of Output:\", y.shape)"
   ]
  },
  {
   "cell_type": "markdown",
   "metadata": {
    "colab_type": "text",
    "id": "tKf4Ji1-NFSV"
   },
   "source": [
    "## 2. Define architecture of the model "
   ]
  },
  {
   "cell_type": "code",
   "execution_count": 8,
   "metadata": {
    "colab": {},
    "colab_type": "code",
    "id": "vlhBW0NNNFSg"
   },
   "outputs": [],
   "source": [
    "inputLayer_neurons = X.shape[0]  # number of features in data set\n",
    "hiddenLayer_neurons = 3  # number of hidden layers neurons\n",
    "outputLayer_neurons = 1  # number of neurons at output layer"
   ]
  },
  {
   "cell_type": "markdown",
   "metadata": {
    "colab_type": "text",
    "id": "OoOsLucmNFSo"
   },
   "source": [
    "![alt text](images/model_architecture.png)"
   ]
  },
  {
   "cell_type": "markdown",
   "metadata": {
    "colab_type": "text",
    "id": "_Nmwj8RfNFSr"
   },
   "source": [
    "## 3. Initialize the parameters\n",
    "\n",
    "NOTE: For simplicity, we are assuming that the bias for all the layers is 0"
   ]
  },
  {
   "cell_type": "code",
   "execution_count": 9,
   "metadata": {
    "colab": {},
    "colab_type": "code",
    "id": "1T1IG-W8NFSu"
   },
   "outputs": [],
   "source": [
    "# initializing weight\n",
    "# Shape of weights_input_hidden should number of neurons at input layer * number of neurons at hidden layer\n",
    "weights_input_hidden = np.random.uniform(size=(inputLayer_neurons, hiddenLayer_neurons))\n",
    "\n",
    "# Shape of weights_hidden_output should number of neurons at hidden layer * number of neurons at output layer\n",
    "weights_hidden_output = np.random.uniform(\n",
    "    size=(hiddenLayer_neurons, outputLayer_neurons)\n",
    ")"
   ]
  },
  {
   "cell_type": "code",
   "execution_count": 10,
   "metadata": {
    "colab": {
     "base_uri": "https://localhost:8080/",
     "height": 34
    },
    "colab_type": "code",
    "executionInfo": {
     "elapsed": 1009,
     "status": "ok",
     "timestamp": 1585485756260,
     "user": {
      "displayName": "Pulkit Sharma",
      "photoUrl": "",
      "userId": "07234574884764057306"
     },
     "user_tz": -330
    },
    "id": "Fpa1--9KNFS1",
    "outputId": "407ba6ee-ddc9-4830-d771-15704f6e39e6"
   },
   "outputs": [
    {
     "data": {
      "text/plain": [
       "((4, 3), (3, 1))"
      ]
     },
     "execution_count": 10,
     "metadata": {},
     "output_type": "execute_result"
    }
   ],
   "source": [
    "# shape of weight matrix\n",
    "weights_input_hidden.shape, weights_hidden_output.shape"
   ]
  },
  {
   "cell_type": "markdown",
   "metadata": {
    "colab_type": "text",
    "id": "srrDW1MNNFS-"
   },
   "source": [
    "## 4. Implement forward propagation"
   ]
  },
  {
   "cell_type": "code",
   "execution_count": 11,
   "metadata": {
    "colab": {},
    "colab_type": "code",
    "id": "sOcBji4iNFTE"
   },
   "outputs": [],
   "source": [
    "# We are using sigmoid as an activation function so defining the sigmoid function here\n",
    "\n",
    "# defining the Sigmoid Function\n",
    "def sigmoid(x):\n",
    "    return 1 / (1 + np.exp(-x))"
   ]
  },
  {
   "cell_type": "markdown",
   "metadata": {
    "colab_type": "text",
    "id": "-g-SocwQNFTC"
   },
   "source": [
    "![alt text](images/hidden_layer_activations.png)"
   ]
  },
  {
   "cell_type": "code",
   "execution_count": 12,
   "metadata": {
    "colab": {},
    "colab_type": "code",
    "id": "DO6AYHtGNFTM"
   },
   "outputs": [],
   "source": [
    "# hidden layer activations\n",
    "\n",
    "hiddenLayer_linearTransform = np.dot(weights_input_hidden.T, X)\n",
    "hiddenLayer_activations = sigmoid(hiddenLayer_linearTransform)"
   ]
  },
  {
   "cell_type": "markdown",
   "metadata": {
    "colab_type": "text",
    "id": "o8zzYX6pNFTT"
   },
   "source": [
    "![alt text](https://drive.google.com/uc?id=1ETMoLD1fwi5u1HHLqtAdVUs-P8HNOU_p)"
   ]
  },
  {
   "cell_type": "code",
   "execution_count": 13,
   "metadata": {
    "colab": {},
    "colab_type": "code",
    "id": "CuqKwiToNFTW"
   },
   "outputs": [],
   "source": [
    "# calculating the output\n",
    "outputLayer_linearTransform = np.dot(weights_hidden_output.T, hiddenLayer_activations)\n",
    "output = sigmoid(outputLayer_linearTransform)"
   ]
  },
  {
   "cell_type": "code",
   "execution_count": 14,
   "metadata": {
    "colab": {
     "base_uri": "https://localhost:8080/",
     "height": 34
    },
    "colab_type": "code",
    "executionInfo": {
     "elapsed": 2132,
     "status": "ok",
     "timestamp": 1585485759226,
     "user": {
      "displayName": "Pulkit Sharma",
      "photoUrl": "",
      "userId": "07234574884764057306"
     },
     "user_tz": -330
    },
    "id": "BjPlMkVMNFTd",
    "outputId": "98153d29-d232-4e9f-da3f-f834a5ad8ad9"
   },
   "outputs": [
    {
     "data": {
      "text/plain": [
       "array([[0.68334694, 0.72697078, 0.71257368]])"
      ]
     },
     "execution_count": 14,
     "metadata": {},
     "output_type": "execute_result"
    }
   ],
   "source": [
    "# output\n",
    "output"
   ]
  },
  {
   "cell_type": "markdown",
   "metadata": {
    "colab_type": "text",
    "id": "mdFKMYyzNFTm"
   },
   "source": [
    "## 5. Implement backward propagation"
   ]
  },
  {
   "cell_type": "markdown",
   "metadata": {
    "colab_type": "text",
    "id": "c2m3XBgZNFTn"
   },
   "source": [
    "![alt text](images/error.png)"
   ]
  },
  {
   "cell_type": "code",
   "execution_count": 15,
   "metadata": {
    "colab": {},
    "colab_type": "code",
    "id": "IvUAAhlcNFTp"
   },
   "outputs": [
    {
     "data": {
      "text/plain": [
       "array([[0.05013458, 0.03727248, 0.25388062]])"
      ]
     },
     "execution_count": 15,
     "metadata": {},
     "output_type": "execute_result"
    }
   ],
   "source": [
    "# calculating error\n",
    "error = np.square(y - output) / 2\n",
    "error"
   ]
  },
  {
   "cell_type": "markdown",
   "metadata": {
    "colab_type": "text",
    "id": "3H0vjBdNNFTw"
   },
   "source": [
    "### Rate of change of error w.r.t weight between hidden and output layer"
   ]
  },
  {
   "cell_type": "markdown",
   "metadata": {
    "colab_type": "text",
    "id": "4cncCd1WNFTz"
   },
   "source": [
    "![alt text](images/error_wrt_who.png)"
   ]
  },
  {
   "cell_type": "markdown",
   "metadata": {
    "colab_type": "text",
    "id": "DqrhlDeDNFT1"
   },
   "source": [
    "**a. Rate of change of error w.r.t output**\n",
    "\n",
    "**b. Rate of change of output w.r.t Z2**\n",
    "\n",
    "**c. Rate of change of Z2 w.r.t weights between hidden and output layer**"
   ]
  },
  {
   "cell_type": "code",
   "execution_count": 16,
   "metadata": {
    "colab": {},
    "colab_type": "code",
    "id": "bKdk5m4FNFT3"
   },
   "outputs": [],
   "source": [
    "# rate of change of error w.r.t. output\n",
    "error_wrt_output = -(y - output)"
   ]
  },
  {
   "cell_type": "code",
   "execution_count": 17,
   "metadata": {
    "colab": {},
    "colab_type": "code",
    "id": "Bl1PDwrBNFT9"
   },
   "outputs": [],
   "source": [
    "# rate of change of output w.r.t. Z2\n",
    "output_wrt_outputLayer_LinearTransform = np.multiply(output, (1 - output))"
   ]
  },
  {
   "cell_type": "code",
   "execution_count": 18,
   "metadata": {
    "colab": {},
    "colab_type": "code",
    "id": "3vLk1nxLNFUD"
   },
   "outputs": [],
   "source": [
    "# rate of change of Z2 w.r.t. weights between hidden and output layer\n",
    "outputLayer_LinearTransform_wrt_weights_hidden_output = hiddenLayer_activations"
   ]
  },
  {
   "cell_type": "code",
   "execution_count": 19,
   "metadata": {
    "colab": {
     "base_uri": "https://localhost:8080/",
     "height": 34
    },
    "colab_type": "code",
    "executionInfo": {
     "elapsed": 1953,
     "status": "ok",
     "timestamp": 1585485762993,
     "user": {
      "displayName": "Pulkit Sharma",
      "photoUrl": "",
      "userId": "07234574884764057306"
     },
     "user_tz": -330
    },
    "id": "UXXifY9QNFUI",
    "outputId": "869382cd-4440-47f1-c249-db25f9073338"
   },
   "outputs": [
    {
     "data": {
      "text/plain": [
       "((1, 3), (1, 3), (3, 3))"
      ]
     },
     "execution_count": 19,
     "metadata": {},
     "output_type": "execute_result"
    }
   ],
   "source": [
    "# checking the shapes of partial derivatives\n",
    "error_wrt_output.shape, output_wrt_outputLayer_LinearTransform.shape, outputLayer_LinearTransform_wrt_weights_hidden_output.shape"
   ]
  },
  {
   "cell_type": "code",
   "execution_count": 20,
   "metadata": {
    "colab": {
     "base_uri": "https://localhost:8080/",
     "height": 34
    },
    "colab_type": "code",
    "executionInfo": {
     "elapsed": 1725,
     "status": "ok",
     "timestamp": 1585485762995,
     "user": {
      "displayName": "Pulkit Sharma",
      "photoUrl": "",
      "userId": "07234574884764057306"
     },
     "user_tz": -330
    },
    "id": "ZvtS7wCRNFUN",
    "outputId": "377481a7-6b8f-4d0c-abe2-82060ce48ab0"
   },
   "outputs": [
    {
     "data": {
      "text/plain": [
       "(3, 1)"
      ]
     },
     "execution_count": 20,
     "metadata": {},
     "output_type": "execute_result"
    }
   ],
   "source": [
    "# shape of weights of output layer\n",
    "weights_hidden_output.shape"
   ]
  },
  {
   "cell_type": "markdown",
   "metadata": {
    "colab_type": "text",
    "id": "gC9zQEH6HON5"
   },
   "source": [
    "![alt text](images/error_wrt_who_matrix.png)"
   ]
  },
  {
   "cell_type": "code",
   "execution_count": 21,
   "metadata": {
    "colab": {},
    "colab_type": "code",
    "id": "l3HNVYGONFUr"
   },
   "outputs": [],
   "source": [
    "# rate of change of error w.r.t weight between hidden and output layer\n",
    "error_wrt_weights_hidden_output = np.dot(\n",
    "    outputLayer_LinearTransform_wrt_weights_hidden_output,\n",
    "    (error_wrt_output * output_wrt_outputLayer_LinearTransform).T,\n",
    ")"
   ]
  },
  {
   "cell_type": "code",
   "execution_count": 22,
   "metadata": {
    "colab": {
     "base_uri": "https://localhost:8080/",
     "height": 34
    },
    "colab_type": "code",
    "executionInfo": {
     "elapsed": 1805,
     "status": "ok",
     "timestamp": 1585485763842,
     "user": {
      "displayName": "Pulkit Sharma",
      "photoUrl": "",
      "userId": "07234574884764057306"
     },
     "user_tz": -330
    },
    "id": "cwyI1EGZNFUw",
    "outputId": "93df5cbf-3413-4acb-cdaa-394a9ce50a37"
   },
   "outputs": [
    {
     "data": {
      "text/plain": [
       "(3, 1)"
      ]
     },
     "execution_count": 22,
     "metadata": {},
     "output_type": "execute_result"
    }
   ],
   "source": [
    "error_wrt_weights_hidden_output.shape"
   ]
  },
  {
   "cell_type": "markdown",
   "metadata": {
    "colab_type": "text",
    "id": "sDFPg2SHNFU2"
   },
   "source": [
    "### Rate of change of error w.r.t weight between input and hidden layer"
   ]
  },
  {
   "cell_type": "markdown",
   "metadata": {
    "colab_type": "text",
    "id": "_757MrjBNFU2"
   },
   "source": [
    "![alt text](images/error_wrt_wih.png)"
   ]
  },
  {
   "cell_type": "markdown",
   "metadata": {
    "colab_type": "text",
    "id": "_nPYGXkeNFU4"
   },
   "source": [
    "**a. Rate of change of error w.r.t output**\n",
    "\n",
    "**b. Rate of change of output w.r.t Z2**\n",
    "\n",
    "**c. Rate of change of Z2 w.r.t hidden layer activations**\n",
    "\n",
    "**d. Rate of change of hidden layer activations w.r.t Z1**\n",
    "\n",
    "**e. Rate of change of Z1 w.r.t weights between input and hidden layer**"
   ]
  },
  {
   "cell_type": "code",
   "execution_count": 23,
   "metadata": {
    "colab": {},
    "colab_type": "code",
    "id": "Sb7Ezxw9NFU6"
   },
   "outputs": [],
   "source": [
    "# rate of change of error w.r.t. output\n",
    "error_wrt_output = -(y - output)"
   ]
  },
  {
   "cell_type": "code",
   "execution_count": 24,
   "metadata": {
    "colab": {},
    "colab_type": "code",
    "id": "3-SGbNaoNFVA"
   },
   "outputs": [],
   "source": [
    "# rate of change of output w.r.t. Z2\n",
    "output_wrt_outputLayer_LinearTransform = np.multiply(output, (1 - output))"
   ]
  },
  {
   "cell_type": "code",
   "execution_count": 25,
   "metadata": {
    "colab": {},
    "colab_type": "code",
    "id": "amuoR7h6NFVF"
   },
   "outputs": [],
   "source": [
    "# rate of change of Z2 w.r.t. hidden layer activations\n",
    "outputLayer_LinearTransform_wrt_hiddenLayer_activations = weights_hidden_output"
   ]
  },
  {
   "cell_type": "code",
   "execution_count": 26,
   "metadata": {
    "colab": {},
    "colab_type": "code",
    "id": "YDUZEdWKNFVJ"
   },
   "outputs": [],
   "source": [
    "# rate of change of hidden layer activations w.r.t. Z1\n",
    "hiddenLayer_activations_wrt_hiddenLayer_linearTransform = np.multiply(\n",
    "    hiddenLayer_activations, (1 - hiddenLayer_activations)\n",
    ")"
   ]
  },
  {
   "cell_type": "code",
   "execution_count": 27,
   "metadata": {
    "colab": {},
    "colab_type": "code",
    "id": "Ft4U6Td6NFVO"
   },
   "outputs": [],
   "source": [
    "# rate of change of Z1 w.r.t. weights between input and hidden layer\n",
    "hiddenLayer_linearTransform_wrt_weights_input_hidden = X"
   ]
  },
  {
   "cell_type": "code",
   "execution_count": 28,
   "metadata": {
    "colab": {
     "base_uri": "https://localhost:8080/",
     "height": 34
    },
    "colab_type": "code",
    "executionInfo": {
     "elapsed": 1069,
     "status": "ok",
     "timestamp": 1585485765410,
     "user": {
      "displayName": "Pulkit Sharma",
      "photoUrl": "",
      "userId": "07234574884764057306"
     },
     "user_tz": -330
    },
    "id": "A-hsfsi4NFVR",
    "outputId": "2d5a0542-4563-4989-90be-382eba30a03a"
   },
   "outputs": [
    {
     "name": "stdout",
     "output_type": "stream",
     "text": [
      "(1, 3) (1, 3) (3, 1) (3, 3) (4, 3)\n"
     ]
    }
   ],
   "source": [
    "# checking the shapes of partial derivatives\n",
    "print(\n",
    "    error_wrt_output.shape,\n",
    "    output_wrt_outputLayer_LinearTransform.shape,\n",
    "    outputLayer_LinearTransform_wrt_hiddenLayer_activations.shape,\n",
    "    hiddenLayer_activations_wrt_hiddenLayer_linearTransform.shape,\n",
    "    hiddenLayer_linearTransform_wrt_weights_input_hidden.shape,\n",
    ")"
   ]
  },
  {
   "cell_type": "code",
   "execution_count": 29,
   "metadata": {
    "colab": {
     "base_uri": "https://localhost:8080/",
     "height": 34
    },
    "colab_type": "code",
    "executionInfo": {
     "elapsed": 1503,
     "status": "ok",
     "timestamp": 1585485766077,
     "user": {
      "displayName": "Pulkit Sharma",
      "photoUrl": "",
      "userId": "07234574884764057306"
     },
     "user_tz": -330
    },
    "id": "1uka_yPrNFVV",
    "outputId": "238e6afd-f960-4eb3-c02c-b95a31932b5a"
   },
   "outputs": [
    {
     "data": {
      "text/plain": [
       "(4, 3)"
      ]
     },
     "execution_count": 29,
     "metadata": {},
     "output_type": "execute_result"
    }
   ],
   "source": [
    "# shape of weights of hidden layer\n",
    "weights_input_hidden.shape"
   ]
  },
  {
   "cell_type": "markdown",
   "metadata": {
    "colab_type": "text",
    "id": "gCeSm7vrHbHj"
   },
   "source": [
    "![alt text](https://drive.google.com/uc?id=1RkG5x1NEFWlF3tj0OlswOWvBcV5XNV1C)"
   ]
  },
  {
   "cell_type": "code",
   "execution_count": 30,
   "metadata": {
    "colab": {},
    "colab_type": "code",
    "id": "XTPNf3E5NFVs"
   },
   "outputs": [],
   "source": [
    "# rate of change of error w.r.t weights between input and hidden layer\n",
    "error_wrt_weights_input_hidden = np.dot(\n",
    "    hiddenLayer_linearTransform_wrt_weights_input_hidden,\n",
    "    (\n",
    "        hiddenLayer_activations_wrt_hiddenLayer_linearTransform\n",
    "        * np.dot(\n",
    "            outputLayer_LinearTransform_wrt_hiddenLayer_activations,\n",
    "            (output_wrt_outputLayer_LinearTransform * error_wrt_output),\n",
    "        )\n",
    "    ).T,\n",
    ")"
   ]
  },
  {
   "cell_type": "code",
   "execution_count": 31,
   "metadata": {
    "colab": {
     "base_uri": "https://localhost:8080/",
     "height": 34
    },
    "colab_type": "code",
    "executionInfo": {
     "elapsed": 2480,
     "status": "ok",
     "timestamp": 1585485768146,
     "user": {
      "displayName": "Pulkit Sharma",
      "photoUrl": "",
      "userId": "07234574884764057306"
     },
     "user_tz": -330
    },
    "id": "_WN0I-mpNFVw",
    "outputId": "a7ab9b3d-3a2a-4480-f15e-11d1f5ae8e13"
   },
   "outputs": [
    {
     "data": {
      "text/plain": [
       "(4, 3)"
      ]
     },
     "execution_count": 31,
     "metadata": {},
     "output_type": "execute_result"
    }
   ],
   "source": [
    "error_wrt_weights_input_hidden.shape"
   ]
  },
  {
   "cell_type": "markdown",
   "metadata": {
    "colab_type": "text",
    "id": "W2bu4H5-NFVz"
   },
   "source": [
    "### Update the parameters"
   ]
  },
  {
   "cell_type": "markdown",
   "metadata": {
    "colab_type": "text",
    "id": "-nmJnY_PNFV1"
   },
   "source": [
    "![alt text](https://drive.google.com/uc?id=1A5jaB3WjZx9yrJkk9imVEvP3PZodjapE)"
   ]
  },
  {
   "cell_type": "code",
   "execution_count": 32,
   "metadata": {
    "colab": {},
    "colab_type": "code",
    "id": "_r59xEpINFV2"
   },
   "outputs": [],
   "source": [
    "# defining the learning rate\n",
    "lr = 0.01"
   ]
  },
  {
   "cell_type": "code",
   "execution_count": 33,
   "metadata": {
    "colab": {
     "base_uri": "https://localhost:8080/",
     "height": 69
    },
    "colab_type": "code",
    "executionInfo": {
     "elapsed": 2341,
     "status": "ok",
     "timestamp": 1585485769472,
     "user": {
      "displayName": "Pulkit Sharma",
      "photoUrl": "",
      "userId": "07234574884764057306"
     },
     "user_tz": -330
    },
    "id": "aiBFNXd3NFV7",
    "outputId": "a7362697-b6e0-41c1-8a5a-bb525ed22c3e"
   },
   "outputs": [
    {
     "data": {
      "text/plain": [
       "array([[0.83244264],\n",
       "       [0.21233911],\n",
       "       [0.18182497]])"
      ]
     },
     "execution_count": 33,
     "metadata": {},
     "output_type": "execute_result"
    }
   ],
   "source": [
    "# initial weights_hidden_output\n",
    "weights_hidden_output"
   ]
  },
  {
   "cell_type": "code",
   "execution_count": 34,
   "metadata": {
    "colab": {
     "base_uri": "https://localhost:8080/",
     "height": 86
    },
    "colab_type": "code",
    "executionInfo": {
     "elapsed": 1928,
     "status": "ok",
     "timestamp": 1585485769474,
     "user": {
      "displayName": "Pulkit Sharma",
      "photoUrl": "",
      "userId": "07234574884764057306"
     },
     "user_tz": -330
    },
    "id": "CuosFKUENFWB",
    "outputId": "fa8986c3-9960-4985-b6ec-e7d9a51f16e1",
    "scrolled": true
   },
   "outputs": [
    {
     "data": {
      "text/plain": [
       "array([[0.37454012, 0.95071431, 0.73199394],\n",
       "       [0.59865848, 0.15601864, 0.15599452],\n",
       "       [0.05808361, 0.86617615, 0.60111501],\n",
       "       [0.70807258, 0.02058449, 0.96990985]])"
      ]
     },
     "execution_count": 34,
     "metadata": {},
     "output_type": "execute_result"
    }
   ],
   "source": [
    "# initial weights_input_hidden\n",
    "weights_input_hidden"
   ]
  },
  {
   "cell_type": "code",
   "execution_count": 35,
   "metadata": {
    "colab": {},
    "colab_type": "code",
    "id": "D_Va2xywNFWF"
   },
   "outputs": [],
   "source": [
    "# updating the weights of output layer\n",
    "weights_hidden_output = weights_hidden_output - lr * error_wrt_weights_hidden_output"
   ]
  },
  {
   "cell_type": "code",
   "execution_count": 36,
   "metadata": {
    "colab": {},
    "colab_type": "code",
    "id": "ruFlc96BNFWL"
   },
   "outputs": [],
   "source": [
    "# updating the weights of hidden layer\n",
    "weights_input_hidden = weights_input_hidden - lr * error_wrt_weights_input_hidden"
   ]
  },
  {
   "cell_type": "code",
   "execution_count": 37,
   "metadata": {
    "colab": {
     "base_uri": "https://localhost:8080/",
     "height": 69
    },
    "colab_type": "code",
    "executionInfo": {
     "elapsed": 1799,
     "status": "ok",
     "timestamp": 1585485770584,
     "user": {
      "displayName": "Pulkit Sharma",
      "photoUrl": "",
      "userId": "07234574884764057306"
     },
     "user_tz": -330
    },
    "id": "NTf4nS1xNFWP",
    "outputId": "feb1e8da-cdff-4374-cf88-a66e1449ea05"
   },
   "outputs": [
    {
     "data": {
      "text/plain": [
       "array([[0.83211079],\n",
       "       [0.21250681],\n",
       "       [0.18167831]])"
      ]
     },
     "execution_count": 37,
     "metadata": {},
     "output_type": "execute_result"
    }
   ],
   "source": [
    "# updated weights_hidden_output\n",
    "weights_hidden_output"
   ]
  },
  {
   "cell_type": "code",
   "execution_count": 38,
   "metadata": {
    "colab": {
     "base_uri": "https://localhost:8080/",
     "height": 86
    },
    "colab_type": "code",
    "executionInfo": {
     "elapsed": 2866,
     "status": "ok",
     "timestamp": 1585485772036,
     "user": {
      "displayName": "Pulkit Sharma",
      "photoUrl": "",
      "userId": "07234574884764057306"
     },
     "user_tz": -330
    },
    "id": "7VYNPPNlNFWU",
    "outputId": "ae17551f-c966-4124-9ad1-95f3a9e59fad"
   },
   "outputs": [
    {
     "data": {
      "text/plain": [
       "array([[0.37476062, 0.95075719, 0.7320294 ],\n",
       "       [0.59845481, 0.15594177, 0.15594545],\n",
       "       [0.05816641, 0.86618978, 0.60112315],\n",
       "       [0.70795169, 0.02052126, 0.96986892]])"
      ]
     },
     "execution_count": 38,
     "metadata": {},
     "output_type": "execute_result"
    }
   ],
   "source": [
    "# updated weights_input_hidden\n",
    "weights_input_hidden"
   ]
  },
  {
   "cell_type": "markdown",
   "metadata": {
    "colab_type": "text",
    "id": "SxLy6DZlNFWY"
   },
   "source": [
    "## 6. Train the model for multiple epochs"
   ]
  },
  {
   "cell_type": "code",
   "execution_count": 39,
   "metadata": {
    "colab": {},
    "colab_type": "code",
    "id": "8HKS9vIyNFWZ"
   },
   "outputs": [],
   "source": [
    "# defining the model architecture\n",
    "inputLayer_neurons = X.shape[0]  # number of features in data set\n",
    "hiddenLayer_neurons = 3  # number of hidden layers neurons\n",
    "outputLayer_neurons = 1  # number of neurons at output layer\n",
    "\n",
    "# initializing weight\n",
    "weights_input_hidden = np.random.uniform(size=(inputLayer_neurons, hiddenLayer_neurons))\n",
    "weights_hidden_output = np.random.uniform(\n",
    "    size=(hiddenLayer_neurons, outputLayer_neurons)\n",
    ")\n",
    "\n",
    "# defining the parameters\n",
    "lr = 0.1\n",
    "epochs = 1000"
   ]
  },
  {
   "cell_type": "code",
   "execution_count": 40,
   "metadata": {
    "colab": {},
    "colab_type": "code",
    "id": "_yVAcyW_NFWk"
   },
   "outputs": [
    {
     "name": "stdout",
     "output_type": "stream",
     "text": [
      "Error at epoch 0 is 0.11553\n",
      "Error at epoch 100 is 0.11082\n",
      "Error at epoch 200 is 0.10606\n",
      "Error at epoch 300 is 0.09845\n",
      "Error at epoch 400 is 0.08483\n",
      "Error at epoch 500 is 0.06396\n",
      "Error at epoch 600 is 0.04206\n",
      "Error at epoch 700 is 0.02641\n",
      "Error at epoch 800 is 0.01719\n",
      "Error at epoch 900 is 0.01190\n"
     ]
    }
   ],
   "source": [
    "losses = []\n",
    "for epoch in range(epochs):\n",
    "    ## Forward Propogation\n",
    "\n",
    "    # calculating hidden layer activations\n",
    "    hiddenLayer_linearTransform = np.dot(weights_input_hidden.T, X)\n",
    "    hiddenLayer_activations = sigmoid(hiddenLayer_linearTransform)\n",
    "\n",
    "    # calculating the output\n",
    "    outputLayer_linearTransform = np.dot(\n",
    "        weights_hidden_output.T, hiddenLayer_activations\n",
    "    )\n",
    "    output = sigmoid(outputLayer_linearTransform)\n",
    "\n",
    "    ## Backward Propagation\n",
    "\n",
    "    # calculating error\n",
    "    error = np.square(y - output) / 2\n",
    "\n",
    "    # calculating rate of change of error w.r.t weight between hidden and output layer\n",
    "    error_wrt_output = -(y - output)\n",
    "    output_wrt_outputLayer_LinearTransform = np.multiply(output, (1 - output))\n",
    "    outputLayer_LinearTransform_wrt_weights_hidden_output = hiddenLayer_activations\n",
    "\n",
    "    error_wrt_weights_hidden_output = np.dot(\n",
    "        outputLayer_LinearTransform_wrt_weights_hidden_output,\n",
    "        (error_wrt_output * output_wrt_outputLayer_LinearTransform).T,\n",
    "    )\n",
    "\n",
    "    # calculating rate of change of error w.r.t weights between input and hidden layer\n",
    "    outputLayer_LinearTransform_wrt_hiddenLayer_activations = weights_hidden_output\n",
    "    hiddenLayer_activations_wrt_hiddenLayer_linearTransform = np.multiply(\n",
    "        hiddenLayer_activations, (1 - hiddenLayer_activations)\n",
    "    )\n",
    "    hiddenLayer_linearTransform_wrt_weights_input_hidden = X\n",
    "    error_wrt_weights_input_hidden = np.dot(\n",
    "        hiddenLayer_linearTransform_wrt_weights_input_hidden,\n",
    "        (\n",
    "            hiddenLayer_activations_wrt_hiddenLayer_linearTransform\n",
    "            * np.dot(\n",
    "                outputLayer_LinearTransform_wrt_hiddenLayer_activations,\n",
    "                (output_wrt_outputLayer_LinearTransform * error_wrt_output),\n",
    "            )\n",
    "        ).T,\n",
    "    )\n",
    "\n",
    "    # updating the weights\n",
    "    weights_hidden_output = weights_hidden_output - lr * error_wrt_weights_hidden_output\n",
    "    weights_input_hidden = weights_input_hidden - lr * error_wrt_weights_input_hidden\n",
    "\n",
    "    # print error at every 100th epoch\n",
    "    epoch_loss = np.average(error)\n",
    "    if epoch % 100 == 0:\n",
    "        print(f\"Error at epoch {epoch} is {epoch_loss:.5f}\")\n",
    "\n",
    "    # appending the error of each epoch\n",
    "    losses.append(epoch_loss)"
   ]
  },
  {
   "cell_type": "code",
   "execution_count": 41,
   "metadata": {
    "colab": {
     "base_uri": "https://localhost:8080/",
     "height": 86
    },
    "colab_type": "code",
    "executionInfo": {
     "elapsed": 2409,
     "status": "ok",
     "timestamp": 1585485773423,
     "user": {
      "displayName": "Pulkit Sharma",
      "photoUrl": "",
      "userId": "07234574884764057306"
     },
     "user_tz": -330
    },
    "id": "Ra5mTgwUNFWo",
    "outputId": "20de9dc0-62b7-4f07-fd3d-cf290542ac8f"
   },
   "outputs": [
    {
     "data": {
      "text/plain": [
       "array([[ 1.25679149,  1.72312858, -0.27336634],\n",
       "       [-1.07615756, -1.73777864,  1.42316207],\n",
       "       [ 0.63053865,  0.88090942, -0.03448117],\n",
       "       [-0.56098781, -0.65506704,  0.61013995]])"
      ]
     },
     "execution_count": 41,
     "metadata": {},
     "output_type": "execute_result"
    }
   ],
   "source": [
    "# updated w_ih\n",
    "weights_input_hidden"
   ]
  },
  {
   "cell_type": "code",
   "execution_count": 42,
   "metadata": {},
   "outputs": [
    {
     "data": {
      "text/plain": [
       "array([[ 1.45176252],\n",
       "       [ 2.59109536],\n",
       "       [-2.18347501]])"
      ]
     },
     "execution_count": 42,
     "metadata": {},
     "output_type": "execute_result"
    }
   ],
   "source": [
    "# updated w_ho\n",
    "weights_hidden_output"
   ]
  },
  {
   "cell_type": "code",
   "execution_count": 43,
   "metadata": {
    "colab": {
     "base_uri": "https://localhost:8080/",
     "height": 283
    },
    "colab_type": "code",
    "executionInfo": {
     "elapsed": 2186,
     "status": "ok",
     "timestamp": 1585485784562,
     "user": {
      "displayName": "Pulkit Sharma",
      "photoUrl": "",
      "userId": "07234574884764057306"
     },
     "user_tz": -330
    },
    "id": "WeN2dcc0NFW8",
    "outputId": "59ab0369-88ea-4f52-87b4-99da23925bb9",
    "scrolled": true
   },
   "outputs": [
    {
     "data": {
      "text/plain": [
       "[<matplotlib.lines.Line2D at 0x7fe35271a048>]"
      ]
     },
     "execution_count": 43,
     "metadata": {},
     "output_type": "execute_result"
    },
    {
     "data": {
      "image/png": "[encoded data removed]",
      "text/plain": [
       "<Figure size 432x288 with 1 Axes>"
      ]
     },
     "metadata": {
      "needs_background": "light"
     },
     "output_type": "display_data"
    }
   ],
   "source": [
    "# visualizing the error after each epoch\n",
    "plt.plot(np.arange(1, epochs + 1), np.array(losses))"
   ]
  },
  {
   "cell_type": "code",
   "execution_count": 44,
   "metadata": {
    "colab": {
     "base_uri": "https://localhost:8080/",
     "height": 34
    },
    "colab_type": "code",
    "executionInfo": {
     "elapsed": 1949,
     "status": "ok",
     "timestamp": 1585485784571,
     "user": {
      "displayName": "Pulkit Sharma",
      "photoUrl": "",
      "userId": "07234574884764057306"
     },
     "user_tz": -330
    },
    "id": "bJlcGoeUNFXA",
    "outputId": "052f7ac8-c10e-49e4-df8e-69bff60d4381"
   },
   "outputs": [
    {
     "data": {
      "text/plain": [
       "array([[0.9155779 , 0.89643511, 0.18608711]])"
      ]
     },
     "execution_count": 44,
     "metadata": {},
     "output_type": "execute_result"
    }
   ],
   "source": [
    "# final output from the model\n",
    "output"
   ]
  },
  {
   "cell_type": "code",
   "execution_count": 45,
   "metadata": {
    "colab": {
     "base_uri": "https://localhost:8080/",
     "height": 34
    },
    "colab_type": "code",
    "executionInfo": {
     "elapsed": 1904,
     "status": "ok",
     "timestamp": 1585485785455,
     "user": {
      "displayName": "Pulkit Sharma",
      "photoUrl": "",
      "userId": "07234574884764057306"
     },
     "user_tz": -330
    },
    "id": "ARNn3MiKNFXF",
    "outputId": "eb1606ed-53da-48f8-c5a0-f4c459e71fdc"
   },
   "outputs": [
    {
     "data": {
      "text/plain": [
       "array([[1, 1, 0]])"
      ]
     },
     "execution_count": 45,
     "metadata": {},
     "output_type": "execute_result"
    }
   ],
   "source": [
    "# actual target\n",
    "y"
   ]
  },
  {
   "cell_type": "markdown",
   "metadata": {},
   "source": [
    "---"
   ]
  },
  {
   "cell_type": "code",
   "execution_count": 46,
   "metadata": {},
   "outputs": [],
   "source": [
    "from sklearn.datasets import make_moons\n",
    "\n",
    "X, y = make_moons(n_samples=1000, random_state=42, noise=0.1)"
   ]
  },
  {
   "cell_type": "code",
   "execution_count": 47,
   "metadata": {},
   "outputs": [
    {
     "data": {
      "text/plain": [
       "<matplotlib.collections.PathCollection at 0x7fe3496104a8>"
      ]
     },
     "execution_count": 47,
     "metadata": {},
     "output_type": "execute_result"
    },
    {
     "data": {
      "image/png": "[encoded data removed]",
      "text/plain": [
       "<Figure size 432x288 with 1 Axes>"
      ]
     },
     "metadata": {
      "needs_background": "light"
     },
     "output_type": "display_data"
    }
   ],
   "source": [
    "plt.scatter(X[:, 0], X[:, 1], s=10, c=y)"
   ]
  },
  {
   "cell_type": "code",
   "execution_count": 62,
   "metadata": {},
   "outputs": [],
   "source": [
    "from sklearn.datasets import make_blobs\n",
    "\n",
    "X, y = make_blobs(n_samples=1000, centers=2, random_state=42)"
   ]
  },
  {
   "cell_type": "code",
   "execution_count": 63,
   "metadata": {},
   "outputs": [
    {
     "data": {
      "text/plain": [
       "<matplotlib.collections.PathCollection at 0x7fe33b8fac18>"
      ]
     },
     "execution_count": 63,
     "metadata": {},
     "output_type": "execute_result"
    },
    {
     "data": {
      "image/png": "[encoded data removed]",
      "text/plain": [
       "<Figure size 432x288 with 1 Axes>"
      ]
     },
     "metadata": {
      "needs_background": "light"
     },
     "output_type": "display_data"
    }
   ],
   "source": [
    "plt.scatter(X[:, 0], X[:, 1], s=10, c=y)"
   ]
  },
  {
   "cell_type": "code",
   "execution_count": 48,
   "metadata": {},
   "outputs": [
    {
     "data": {
      "text/plain": [
       "array([[-0.05146968,  0.44419863],\n",
       "       [ 1.03201691, -0.41974116],\n",
       "       [ 0.86789186, -0.25482711],\n",
       "       ...,\n",
       "       [ 1.68425911, -0.34822268],\n",
       "       [-0.9672013 ,  0.26367208],\n",
       "       [ 0.78758971,  0.61660945]])"
      ]
     },
     "execution_count": 48,
     "metadata": {},
     "output_type": "execute_result"
    }
   ],
   "source": [
    "X"
   ]
  },
  {
   "cell_type": "code",
   "execution_count": 49,
   "metadata": {},
   "outputs": [],
   "source": [
    "X -= X.min()\n",
    "X /= X.max()"
   ]
  },
  {
   "cell_type": "code",
   "execution_count": 50,
   "metadata": {},
   "outputs": [
    {
     "data": {
      "text/plain": [
       "(0.0, 1.0)"
      ]
     },
     "execution_count": 50,
     "metadata": {},
     "output_type": "execute_result"
    }
   ],
   "source": [
    "X.min(), X.max()"
   ]
  },
  {
   "cell_type": "code",
   "execution_count": 51,
   "metadata": {},
   "outputs": [
    {
     "data": {
      "text/plain": [
       "array([0, 1])"
      ]
     },
     "execution_count": 51,
     "metadata": {},
     "output_type": "execute_result"
    }
   ],
   "source": [
    "np.unique(y)"
   ]
  },
  {
   "cell_type": "code",
   "execution_count": 52,
   "metadata": {},
   "outputs": [
    {
     "data": {
      "text/plain": [
       "((1000, 2), (1000,))"
      ]
     },
     "execution_count": 52,
     "metadata": {},
     "output_type": "execute_result"
    }
   ],
   "source": [
    "X.shape, y.shape"
   ]
  },
  {
   "cell_type": "code",
   "execution_count": 53,
   "metadata": {},
   "outputs": [],
   "source": [
    "X = X.T\n",
    "\n",
    "y = y.reshape(1, -1)"
   ]
  },
  {
   "cell_type": "code",
   "execution_count": 54,
   "metadata": {},
   "outputs": [
    {
     "data": {
      "text/plain": [
       "((2, 1000), (1, 1000))"
      ]
     },
     "execution_count": 54,
     "metadata": {},
     "output_type": "execute_result"
    }
   ],
   "source": [
    "X.shape, y.shape"
   ]
  },
  {
   "cell_type": "code",
   "execution_count": 55,
   "metadata": {},
   "outputs": [
    {
     "name": "stdout",
     "output_type": "stream",
     "text": [
      "Error at epoch 0 is 0.23478\n",
      "Error at epoch 1000 is 0.25000\n",
      "Error at epoch 2000 is 0.25000\n",
      "Error at epoch 3000 is 0.25000\n",
      "Error at epoch 4000 is 0.05129\n",
      "Error at epoch 5000 is 0.02163\n",
      "Error at epoch 6000 is 0.01157\n",
      "Error at epoch 7000 is 0.00775\n",
      "Error at epoch 8000 is 0.00689\n",
      "Error at epoch 9000 is 0.07556\n"
     ]
    }
   ],
   "source": [
    "# defining the model architecture\n",
    "inputLayer_neurons = X.shape[0]  # number of features in data set\n",
    "hiddenLayer_neurons = 10  # number of hidden layers neurons\n",
    "outputLayer_neurons = 1  # number of neurons at output layer\n",
    "\n",
    "# initializing weight\n",
    "weights_input_hidden = np.random.uniform(size=(inputLayer_neurons, hiddenLayer_neurons))\n",
    "weights_hidden_output = np.random.uniform(\n",
    "    size=(hiddenLayer_neurons, outputLayer_neurons)\n",
    ")\n",
    "\n",
    "# defining the parameters\n",
    "lr = 0.1\n",
    "epochs = 10000\n",
    "\n",
    "losses = []\n",
    "for epoch in range(epochs):\n",
    "    ## Forward Propogation\n",
    "\n",
    "    # calculating hidden layer activations\n",
    "    hiddenLayer_linearTransform = np.dot(weights_input_hidden.T, X)\n",
    "    hiddenLayer_activations = sigmoid(hiddenLayer_linearTransform)\n",
    "\n",
    "    # calculating the output\n",
    "    outputLayer_linearTransform = np.dot(\n",
    "        weights_hidden_output.T, hiddenLayer_activations\n",
    "    )\n",
    "    output = sigmoid(outputLayer_linearTransform)\n",
    "\n",
    "    ## Backward Propagation\n",
    "\n",
    "    # calculating error\n",
    "    error = np.square(y - output) / 2\n",
    "\n",
    "    # calculating rate of change of error w.r.t weight between hidden and output layer\n",
    "    error_wrt_output = -(y - output)\n",
    "    output_wrt_outputLayer_LinearTransform = np.multiply(output, (1 - output))\n",
    "    outputLayer_LinearTransform_wrt_weights_hidden_output = hiddenLayer_activations\n",
    "\n",
    "    error_wrt_weights_hidden_output = np.dot(\n",
    "        outputLayer_LinearTransform_wrt_weights_hidden_output,\n",
    "        (error_wrt_output * output_wrt_outputLayer_LinearTransform).T,\n",
    "    )\n",
    "\n",
    "    # calculating rate of change of error w.r.t weights between input and hidden layer\n",
    "    outputLayer_LinearTransform_wrt_hiddenLayer_activations = weights_hidden_output\n",
    "    hiddenLayer_activations_wrt_hiddenLayer_linearTransform = np.multiply(\n",
    "        hiddenLayer_activations, (1 - hiddenLayer_activations)\n",
    "    )\n",
    "    hiddenLayer_linearTransform_wrt_weights_input_hidden = X\n",
    "    error_wrt_weights_input_hidden = np.dot(\n",
    "        hiddenLayer_linearTransform_wrt_weights_input_hidden,\n",
    "        (\n",
    "            hiddenLayer_activations_wrt_hiddenLayer_linearTransform\n",
    "            * np.dot(\n",
    "                outputLayer_LinearTransform_wrt_hiddenLayer_activations,\n",
    "                (output_wrt_outputLayer_LinearTransform * error_wrt_output),\n",
    "            )\n",
    "        ).T,\n",
    "    )\n",
    "\n",
    "    # updating the weights\n",
    "    weights_hidden_output = weights_hidden_output - lr * error_wrt_weights_hidden_output\n",
    "    weights_input_hidden = weights_input_hidden - lr * error_wrt_weights_input_hidden\n",
    "\n",
    "    # print error at every 100th epoch\n",
    "    epoch_loss = np.average(error)\n",
    "    if epoch % 1000 == 0:\n",
    "        print(f\"Error at epoch {epoch} is {epoch_loss:.5f}\")\n",
    "\n",
    "    # appending the error of each epoch\n",
    "    losses.append(epoch_loss)"
   ]
  },
  {
   "cell_type": "code",
   "execution_count": 56,
   "metadata": {},
   "outputs": [
    {
     "data": {
      "text/plain": [
       "[<matplotlib.lines.Line2D at 0x7fe347d53400>]"
      ]
     },
     "execution_count": 56,
     "metadata": {},
     "output_type": "execute_result"
    },
    {
     "data": {
      "image/png": "[encoded data removed]",
      "text/plain": [
       "<Figure size 432x288 with 1 Axes>"
      ]
     },
     "metadata": {
      "needs_background": "light"
     },
     "output_type": "display_data"
    }
   ],
   "source": [
    "# visualizing the error after each epoch\n",
    "plt.plot(np.arange(1, epochs + 1), np.array(losses))"
   ]
  },
  {
   "cell_type": "code",
   "execution_count": 57,
   "metadata": {},
   "outputs": [
    {
     "data": {
      "text/plain": [
       "array([[9.64860989e-01, 9.98678150e-01, 9.94656205e-01, 9.99198418e-01,\n",
       "        2.17566533e-07]])"
      ]
     },
     "execution_count": 57,
     "metadata": {},
     "output_type": "execute_result"
    }
   ],
   "source": [
    "# final output from the model\n",
    "output[:, :5]"
   ]
  },
  {
   "cell_type": "code",
   "execution_count": 58,
   "metadata": {},
   "outputs": [
    {
     "data": {
      "text/plain": [
       "array([[1, 1, 1, 1, 0]])"
      ]
     },
     "execution_count": 58,
     "metadata": {},
     "output_type": "execute_result"
    }
   ],
   "source": [
    "y[:, :5]"
   ]
  },
  {
   "cell_type": "code",
   "execution_count": 59,
   "metadata": {},
   "outputs": [
    {
     "data": {
      "text/plain": [
       "<matplotlib.collections.PathCollection at 0x7fe347d1fa20>"
      ]
     },
     "execution_count": 59,
     "metadata": {},
     "output_type": "execute_result"
    },
    {
     "data": {
      "image/png": "[encoded data removed]",
      "text/plain": [
       "<Figure size 432x288 with 1 Axes>"
      ]
     },
     "metadata": {
      "needs_background": "light"
     },
     "output_type": "display_data"
    }
   ],
   "source": [
    "# Define region of interest by data limits\n",
    "steps = 1000\n",
    "x_span = np.linspace(X[0, :].min(), X[0, :].max(), steps)\n",
    "y_span = np.linspace(X[1, :].min(), X[1, :].max(), steps)\n",
    "xx, yy = np.meshgrid(x_span, y_span)\n",
    "\n",
    "# forward pass for region of interest\n",
    "hiddenLayer_linearTransform = np.dot(\n",
    "    weights_input_hidden.T, np.c_[xx.ravel(), yy.ravel()].T\n",
    ")\n",
    "hiddenLayer_activations = sigmoid(hiddenLayer_linearTransform)\n",
    "outputLayer_linearTransform = np.dot(weights_hidden_output.T, hiddenLayer_activations)\n",
    "output_span = sigmoid(outputLayer_linearTransform)\n",
    "\n",
    "# Make predictions across region of interest\n",
    "labels = (output_span > 0.5).astype(int)\n",
    "\n",
    "# Plot decision boundary in region of interest\n",
    "z = labels.reshape(xx.shape)\n",
    "fig, ax = plt.subplots()\n",
    "ax.contourf(xx, yy, z, alpha=0.2)\n",
    "\n",
    "# Get predicted labels on training data and plot\n",
    "train_labels = (output > 0.5).astype(int)\n",
    "\n",
    "# create scatter plot\n",
    "ax.scatter(X[0, :], X[1, :], s=10, c=y.squeeze())"
   ]
  }
 ],
 "metadata": {
  "accelerator": "GPU",
  "colab": {
   "collapsed_sections": [],
   "name": "Neural Network from scratch using NumPy.ipynb",
   "provenance": []
  },
  "kernelspec": {
   "display_name": "Python 3",
   "language": "python",
   "name": "python3"
  },
  "language_info": {
   "codemirror_mode": {
    "name": "ipython",
    "version": 3
   },
   "file_extension": ".py",
   "mimetype": "text/x-python",
   "name": "python",
   "nbconvert_exporter": "python",
   "pygments_lexer": "ipython3",
   "version": "3.7.3"
  }
 },
 "nbformat": 4,
 "nbformat_minor": 4
}
