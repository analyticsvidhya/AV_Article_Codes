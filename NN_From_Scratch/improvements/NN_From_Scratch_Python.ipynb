{
  "nbformat": 4,
  "nbformat_minor": 0,
  "metadata": {
    "accelerator": "GPU",
    "colab": {
      "name": "Neural Network from scratch using NumPy.ipynb",
      "provenance": [],
      "collapsed_sections": [],
      "include_colab_link": true
    },
    "kernelspec": {
      "display_name": "Python 3",
      "language": "python",
      "name": "python3"
    },
    "language_info": {
      "codemirror_mode": {
        "name": "ipython",
        "version": 3
      },
      "file_extension": ".py",
      "mimetype": "text/x-python",
      "name": "python",
      "nbconvert_exporter": "python",
      "pygments_lexer": "ipython3",
      "version": "3.7.3"
    }
  },
  "cells": [
    {
      "cell_type": "markdown",
      "metadata": {
        "id": "view-in-github",
        "colab_type": "text"
      },
      "source": [
        "<a href=\"https://colab.research.google.com/github/faizankshaikh/AV_Article_Codes/blob/master/NN_From_Scratch/improvements/NN_From_Scratch_Python.ipynb\" target=\"_parent\"><img src=\"https://colab.research.google.com/assets/colab-badge.svg\" alt=\"Open In Colab\"/></a>"
      ]
    },
    {
      "cell_type": "markdown",
      "metadata": {
        "colab_type": "text",
        "id": "cEG1dhnuNFRk"
      },
      "source": [
        "## Steps to build a Neural Network in NumPy\n",
        "\n",
        "> #### 1. Load the dataset \n",
        "> #### 2. Define architecture of the model \n",
        "> #### 3. Initialize the parameters\n",
        "> #### 4. Implement forward propagation\n",
        "> #### 5. Implement backward propagation\n",
        "> #### 6. Train the model for multiple epochs \n",
        "\n",
        "---"
      ]
    },
    {
      "cell_type": "markdown",
      "metadata": {
        "colab_type": "text",
        "id": "sbgj7HfHNFRr"
      },
      "source": [
        "### 1. Load the dataset "
      ]
    },
    {
      "cell_type": "code",
      "metadata": {
        "colab_type": "code",
        "id": "E5S9HgBzNFRw",
        "colab": {}
      },
      "source": [
        "# importing required libraries\n",
        "%matplotlib inline\n",
        "\n",
        "import numpy as np\n",
        "import matplotlib.pyplot as plt"
      ],
      "execution_count": 1,
      "outputs": []
    },
    {
      "cell_type": "code",
      "metadata": {
        "colab_type": "code",
        "id": "ogs6CaXu2zeZ",
        "colab": {
          "base_uri": "https://localhost:8080/",
          "height": 34
        },
        "outputId": "2a129bea-6c3b-4eac-f1bb-2a6f07e167c1"
      },
      "source": [
        "# version of numpy library\n",
        "print(\"Version of numpy:\", np.__version__)"
      ],
      "execution_count": 2,
      "outputs": [
        {
          "output_type": "stream",
          "text": [
            "Version of numpy: 1.18.5\n"
          ],
          "name": "stdout"
        }
      ]
    },
    {
      "cell_type": "code",
      "metadata": {
        "colab_type": "code",
        "id": "vNmvxGv723N6",
        "colab": {
          "base_uri": "https://localhost:8080/",
          "height": 34
        },
        "outputId": "aac2f147-a0c3-4232-f823-7ef8d4b109b3"
      },
      "source": [
        "# version of matplotlib library\n",
        "import matplotlib\n",
        "\n",
        "print(\"Version of matplotlib:\", matplotlib.__version__)"
      ],
      "execution_count": 3,
      "outputs": [
        {
          "output_type": "stream",
          "text": [
            "Version of matplotlib: 3.2.2\n"
          ],
          "name": "stdout"
        }
      ]
    },
    {
      "cell_type": "code",
      "metadata": {
        "id": "cf5NZ52KragQ",
        "colab_type": "code",
        "colab": {}
      },
      "source": [
        "# set random seed\n",
        "np.random.seed(42)"
      ],
      "execution_count": 4,
      "outputs": []
    },
    {
      "cell_type": "code",
      "metadata": {
        "colab_type": "code",
        "id": "H_h7HoPONFR_",
        "colab": {
          "base_uri": "https://localhost:8080/",
          "height": 121
        },
        "outputId": "77af76c4-e3fc-4a70-aca0-4cce73375d28"
      },
      "source": [
        "# creating the input array\n",
        "X = np.array([[1, 0, 0, 0], [1, 0, 1, 1], [0, 1, 0, 1]])\n",
        "\n",
        "print(\"Input:\\n\", X)\n",
        "\n",
        "# shape of input array\n",
        "print(\"\\nShape of Input:\", X.shape)"
      ],
      "execution_count": 5,
      "outputs": [
        {
          "output_type": "stream",
          "text": [
            "Input:\n",
            " [[1 0 0 0]\n",
            " [1 0 1 1]\n",
            " [0 1 0 1]]\n",
            "\n",
            "Shape of Input: (3, 4)\n"
          ],
          "name": "stdout"
        }
      ]
    },
    {
      "cell_type": "code",
      "metadata": {
        "colab_type": "code",
        "id": "LVvQz5g39wo3",
        "colab": {
          "base_uri": "https://localhost:8080/",
          "height": 139
        },
        "outputId": "1f2e3a9e-2058-4943-dc25-b9e9816036c9"
      },
      "source": [
        "# converting the input in matrix form\n",
        "X = X.T\n",
        "print(\"Input in matrix form:\\n\", X)\n",
        "\n",
        "# shape of input matrix\n",
        "print(\"\\nShape of Input Matrix:\", X.shape)"
      ],
      "execution_count": 6,
      "outputs": [
        {
          "output_type": "stream",
          "text": [
            "Input in matrix form:\n",
            " [[1 1 0]\n",
            " [0 0 1]\n",
            " [0 1 0]\n",
            " [0 1 1]]\n",
            "\n",
            "Shape of Input Matrix: (4, 3)\n"
          ],
          "name": "stdout"
        }
      ]
    },
    {
      "cell_type": "code",
      "metadata": {
        "colab_type": "code",
        "id": "IRe8JE0xNFSL",
        "colab": {
          "base_uri": "https://localhost:8080/",
          "height": 173
        },
        "outputId": "5cbd1d8b-e0ae-4505-ce48-cd3f8f1a6fd0"
      },
      "source": [
        "# creating the output array\n",
        "y = np.array([[1], [1], [0]])\n",
        "\n",
        "print(\"Actual Output:\\n\", y)\n",
        "\n",
        "# output in matrix form\n",
        "y = y.T\n",
        "\n",
        "print(\"\\nOutput in matrix form:\\n\", y)\n",
        "\n",
        "# shape of input array\n",
        "print(\"\\nShape of Output:\", y.shape)"
      ],
      "execution_count": 7,
      "outputs": [
        {
          "output_type": "stream",
          "text": [
            "Actual Output:\n",
            " [[1]\n",
            " [1]\n",
            " [0]]\n",
            "\n",
            "Output in matrix form:\n",
            " [[1 1 0]]\n",
            "\n",
            "Shape of Output: (1, 3)\n"
          ],
          "name": "stdout"
        }
      ]
    },
    {
      "cell_type": "markdown",
      "metadata": {
        "colab_type": "text",
        "id": "tKf4Ji1-NFSV"
      },
      "source": [
        "## 2. Define architecture of the model "
      ]
    },
    {
      "cell_type": "code",
      "metadata": {
        "colab_type": "code",
        "id": "vlhBW0NNNFSg",
        "colab": {}
      },
      "source": [
        "inputLayer_neurons = X.shape[0]  # number of features in data set\n",
        "hiddenLayer_neurons = 3  # number of hidden layers neurons\n",
        "outputLayer_neurons = 1  # number of neurons at output layer"
      ],
      "execution_count": 8,
      "outputs": []
    },
    {
      "cell_type": "markdown",
      "metadata": {
        "colab_type": "text",
        "id": "OoOsLucmNFSo"
      },
      "source": [
        "![alt text](https://github.com/faizankshaikh/AV_Article_Codes/blob/master/NN_From_Scratch/improvements/images/model_architecture.png?raw=1)"
      ]
    },
    {
      "cell_type": "markdown",
      "metadata": {
        "colab_type": "text",
        "id": "_Nmwj8RfNFSr"
      },
      "source": [
        "## 3. Initialize the parameters\n",
        "\n",
        "NOTE: For simplicity, we are assuming that the bias for all the layers is 0"
      ]
    },
    {
      "cell_type": "code",
      "metadata": {
        "colab_type": "code",
        "id": "1T1IG-W8NFSu",
        "colab": {}
      },
      "source": [
        "# initializing weight\n",
        "# Shape of weights_input_hidden should number of neurons at input layer * number of neurons at hidden layer\n",
        "weights_input_hidden = np.random.uniform(size=(inputLayer_neurons, hiddenLayer_neurons))\n",
        "\n",
        "# Shape of weights_hidden_output should number of neurons at hidden layer * number of neurons at output layer\n",
        "weights_hidden_output = np.random.uniform(\n",
        "    size=(hiddenLayer_neurons, outputLayer_neurons)\n",
        ")"
      ],
      "execution_count": 9,
      "outputs": []
    },
    {
      "cell_type": "code",
      "metadata": {
        "colab_type": "code",
        "id": "Fpa1--9KNFS1",
        "colab": {
          "base_uri": "https://localhost:8080/",
          "height": 34
        },
        "outputId": "babbf8e8-90a5-49ff-a152-fa2dd2cc1eda"
      },
      "source": [
        "# shape of weight matrix\n",
        "weights_input_hidden.shape, weights_hidden_output.shape"
      ],
      "execution_count": 10,
      "outputs": [
        {
          "output_type": "execute_result",
          "data": {
            "text/plain": [
              "((4, 3), (3, 1))"
            ]
          },
          "metadata": {
            "tags": []
          },
          "execution_count": 10
        }
      ]
    },
    {
      "cell_type": "markdown",
      "metadata": {
        "colab_type": "text",
        "id": "srrDW1MNNFS-"
      },
      "source": [
        "## 4. Implement forward propagation"
      ]
    },
    {
      "cell_type": "code",
      "metadata": {
        "colab_type": "code",
        "id": "sOcBji4iNFTE",
        "colab": {}
      },
      "source": [
        "# We are using sigmoid as an activation function so defining the sigmoid function here\n",
        "\n",
        "# defining the Sigmoid Function\n",
        "def sigmoid(x):\n",
        "    return 1 / (1 + np.exp(-x))"
      ],
      "execution_count": 11,
      "outputs": []
    },
    {
      "cell_type": "markdown",
      "metadata": {
        "colab_type": "text",
        "id": "-g-SocwQNFTC"
      },
      "source": [
        "![alt text](https://github.com/faizankshaikh/AV_Article_Codes/blob/master/NN_From_Scratch/improvements/images/hidden_layer_activations.png?raw=1)"
      ]
    },
    {
      "cell_type": "code",
      "metadata": {
        "colab_type": "code",
        "id": "DO6AYHtGNFTM",
        "colab": {}
      },
      "source": [
        "# hidden layer activations\n",
        "\n",
        "hiddenLayer_linearTransform = np.dot(weights_input_hidden.T, X)\n",
        "hiddenLayer_activations = sigmoid(hiddenLayer_linearTransform)"
      ],
      "execution_count": 12,
      "outputs": []
    },
    {
      "cell_type": "markdown",
      "metadata": {
        "colab_type": "text",
        "id": "o8zzYX6pNFTT"
      },
      "source": [
        "![alt text](https://drive.google.com/uc?id=1ETMoLD1fwi5u1HHLqtAdVUs-P8HNOU_p)"
      ]
    },
    {
      "cell_type": "code",
      "metadata": {
        "colab_type": "code",
        "id": "CuqKwiToNFTW",
        "colab": {}
      },
      "source": [
        "# calculating the output\n",
        "outputLayer_linearTransform = np.dot(weights_hidden_output.T, hiddenLayer_activations)\n",
        "output = sigmoid(outputLayer_linearTransform)"
      ],
      "execution_count": 13,
      "outputs": []
    },
    {
      "cell_type": "code",
      "metadata": {
        "colab_type": "code",
        "id": "BjPlMkVMNFTd",
        "colab": {
          "base_uri": "https://localhost:8080/",
          "height": 34
        },
        "outputId": "8a81d2de-a2f5-49c7-a6b5-bd65bd19cac3"
      },
      "source": [
        "# output\n",
        "output"
      ],
      "execution_count": 14,
      "outputs": [
        {
          "output_type": "execute_result",
          "data": {
            "text/plain": [
              "array([[0.68334694, 0.72697078, 0.71257368]])"
            ]
          },
          "metadata": {
            "tags": []
          },
          "execution_count": 14
        }
      ]
    },
    {
      "cell_type": "markdown",
      "metadata": {
        "colab_type": "text",
        "id": "mdFKMYyzNFTm"
      },
      "source": [
        "## 5. Implement backward propagation"
      ]
    },
    {
      "cell_type": "markdown",
      "metadata": {
        "colab_type": "text",
        "id": "c2m3XBgZNFTn"
      },
      "source": [
        "![alt text](https://github.com/faizankshaikh/AV_Article_Codes/blob/master/NN_From_Scratch/improvements/images/error.png?raw=1)"
      ]
    },
    {
      "cell_type": "code",
      "metadata": {
        "colab_type": "code",
        "id": "IvUAAhlcNFTp",
        "colab": {
          "base_uri": "https://localhost:8080/",
          "height": 34
        },
        "outputId": "ef34ba99-13be-41f7-b886-ccaf9b80d403"
      },
      "source": [
        "# calculating error\n",
        "error = np.square(y - output) / 2\n",
        "error"
      ],
      "execution_count": 15,
      "outputs": [
        {
          "output_type": "execute_result",
          "data": {
            "text/plain": [
              "array([[0.05013458, 0.03727248, 0.25388062]])"
            ]
          },
          "metadata": {
            "tags": []
          },
          "execution_count": 15
        }
      ]
    },
    {
      "cell_type": "markdown",
      "metadata": {
        "colab_type": "text",
        "id": "3H0vjBdNNFTw"
      },
      "source": [
        "### Rate of change of error w.r.t weight between hidden and output layer"
      ]
    },
    {
      "cell_type": "markdown",
      "metadata": {
        "colab_type": "text",
        "id": "4cncCd1WNFTz"
      },
      "source": [
        "![alt text](https://github.com/faizankshaikh/AV_Article_Codes/blob/master/NN_From_Scratch/improvements/images/error_wrt_who.png?raw=1)"
      ]
    },
    {
      "cell_type": "markdown",
      "metadata": {
        "colab_type": "text",
        "id": "DqrhlDeDNFT1"
      },
      "source": [
        "**a. Rate of change of error w.r.t output**\n",
        "\n",
        "**b. Rate of change of output w.r.t Z2**\n",
        "\n",
        "**c. Rate of change of Z2 w.r.t weights between hidden and output layer**"
      ]
    },
    {
      "cell_type": "code",
      "metadata": {
        "colab_type": "code",
        "id": "bKdk5m4FNFT3",
        "colab": {}
      },
      "source": [
        "# rate of change of error w.r.t. output\n",
        "error_wrt_output = -(y - output)"
      ],
      "execution_count": 16,
      "outputs": []
    },
    {
      "cell_type": "code",
      "metadata": {
        "colab_type": "code",
        "id": "Bl1PDwrBNFT9",
        "colab": {}
      },
      "source": [
        "# rate of change of output w.r.t. Z2\n",
        "output_wrt_outputLayer_LinearTransform = np.multiply(output, (1 - output))"
      ],
      "execution_count": 17,
      "outputs": []
    },
    {
      "cell_type": "code",
      "metadata": {
        "colab_type": "code",
        "id": "3vLk1nxLNFUD",
        "colab": {}
      },
      "source": [
        "# rate of change of Z2 w.r.t. weights between hidden and output layer\n",
        "outputLayer_LinearTransform_wrt_weights_hidden_output = hiddenLayer_activations"
      ],
      "execution_count": 18,
      "outputs": []
    },
    {
      "cell_type": "code",
      "metadata": {
        "colab_type": "code",
        "id": "UXXifY9QNFUI",
        "colab": {
          "base_uri": "https://localhost:8080/",
          "height": 34
        },
        "outputId": "525336f9-e81e-49ef-ac93-2d87baa7f29b"
      },
      "source": [
        "# checking the shapes of partial derivatives\n",
        "error_wrt_output.shape, output_wrt_outputLayer_LinearTransform.shape, outputLayer_LinearTransform_wrt_weights_hidden_output.shape"
      ],
      "execution_count": 19,
      "outputs": [
        {
          "output_type": "execute_result",
          "data": {
            "text/plain": [
              "((1, 3), (1, 3), (3, 3))"
            ]
          },
          "metadata": {
            "tags": []
          },
          "execution_count": 19
        }
      ]
    },
    {
      "cell_type": "code",
      "metadata": {
        "colab_type": "code",
        "id": "ZvtS7wCRNFUN",
        "colab": {
          "base_uri": "https://localhost:8080/",
          "height": 34
        },
        "outputId": "1eb93c65-713a-409d-cbc2-3f26ab201976"
      },
      "source": [
        "# shape of weights of output layer\n",
        "weights_hidden_output.shape"
      ],
      "execution_count": 20,
      "outputs": [
        {
          "output_type": "execute_result",
          "data": {
            "text/plain": [
              "(3, 1)"
            ]
          },
          "metadata": {
            "tags": []
          },
          "execution_count": 20
        }
      ]
    },
    {
      "cell_type": "markdown",
      "metadata": {
        "colab_type": "text",
        "id": "gC9zQEH6HON5"
      },
      "source": [
        "![alt text](https://github.com/faizankshaikh/AV_Article_Codes/blob/master/NN_From_Scratch/improvements/images/error_wrt_who_matrix.png?raw=1)"
      ]
    },
    {
      "cell_type": "code",
      "metadata": {
        "colab_type": "code",
        "id": "l3HNVYGONFUr",
        "colab": {}
      },
      "source": [
        "# rate of change of error w.r.t weight between hidden and output layer\n",
        "error_wrt_weights_hidden_output = np.dot(\n",
        "    outputLayer_LinearTransform_wrt_weights_hidden_output,\n",
        "    (error_wrt_output * output_wrt_outputLayer_LinearTransform).T,\n",
        ")"
      ],
      "execution_count": 21,
      "outputs": []
    },
    {
      "cell_type": "code",
      "metadata": {
        "colab_type": "code",
        "id": "cwyI1EGZNFUw",
        "colab": {
          "base_uri": "https://localhost:8080/",
          "height": 34
        },
        "outputId": "cd2a892b-4a5f-43eb-c543-3415ebd713bd"
      },
      "source": [
        "error_wrt_weights_hidden_output.shape"
      ],
      "execution_count": 22,
      "outputs": [
        {
          "output_type": "execute_result",
          "data": {
            "text/plain": [
              "(3, 1)"
            ]
          },
          "metadata": {
            "tags": []
          },
          "execution_count": 22
        }
      ]
    },
    {
      "cell_type": "markdown",
      "metadata": {
        "colab_type": "text",
        "id": "sDFPg2SHNFU2"
      },
      "source": [
        "### Rate of change of error w.r.t weight between input and hidden layer"
      ]
    },
    {
      "cell_type": "markdown",
      "metadata": {
        "colab_type": "text",
        "id": "_757MrjBNFU2"
      },
      "source": [
        "![alt text](https://github.com/faizankshaikh/AV_Article_Codes/blob/master/NN_From_Scratch/improvements/images/error_wrt_wih.png?raw=1)"
      ]
    },
    {
      "cell_type": "markdown",
      "metadata": {
        "colab_type": "text",
        "id": "_nPYGXkeNFU4"
      },
      "source": [
        "**a. Rate of change of error w.r.t output**\n",
        "\n",
        "**b. Rate of change of output w.r.t Z2**\n",
        "\n",
        "**c. Rate of change of Z2 w.r.t hidden layer activations**\n",
        "\n",
        "**d. Rate of change of hidden layer activations w.r.t Z1**\n",
        "\n",
        "**e. Rate of change of Z1 w.r.t weights between input and hidden layer**"
      ]
    },
    {
      "cell_type": "code",
      "metadata": {
        "colab_type": "code",
        "id": "Sb7Ezxw9NFU6",
        "colab": {}
      },
      "source": [
        "# rate of change of error w.r.t. output\n",
        "error_wrt_output = -(y - output)"
      ],
      "execution_count": 23,
      "outputs": []
    },
    {
      "cell_type": "code",
      "metadata": {
        "colab_type": "code",
        "id": "3-SGbNaoNFVA",
        "colab": {}
      },
      "source": [
        "# rate of change of output w.r.t. Z2\n",
        "output_wrt_outputLayer_LinearTransform = np.multiply(output, (1 - output))"
      ],
      "execution_count": 24,
      "outputs": []
    },
    {
      "cell_type": "code",
      "metadata": {
        "colab_type": "code",
        "id": "amuoR7h6NFVF",
        "colab": {}
      },
      "source": [
        "# rate of change of Z2 w.r.t. hidden layer activations\n",
        "outputLayer_LinearTransform_wrt_hiddenLayer_activations = weights_hidden_output"
      ],
      "execution_count": 25,
      "outputs": []
    },
    {
      "cell_type": "code",
      "metadata": {
        "colab_type": "code",
        "id": "YDUZEdWKNFVJ",
        "colab": {}
      },
      "source": [
        "# rate of change of hidden layer activations w.r.t. Z1\n",
        "hiddenLayer_activations_wrt_hiddenLayer_linearTransform = np.multiply(\n",
        "    hiddenLayer_activations, (1 - hiddenLayer_activations)\n",
        ")"
      ],
      "execution_count": 26,
      "outputs": []
    },
    {
      "cell_type": "code",
      "metadata": {
        "colab_type": "code",
        "id": "Ft4U6Td6NFVO",
        "colab": {}
      },
      "source": [
        "# rate of change of Z1 w.r.t. weights between input and hidden layer\n",
        "hiddenLayer_linearTransform_wrt_weights_input_hidden = X"
      ],
      "execution_count": 27,
      "outputs": []
    },
    {
      "cell_type": "code",
      "metadata": {
        "colab_type": "code",
        "id": "A-hsfsi4NFVR",
        "colab": {
          "base_uri": "https://localhost:8080/",
          "height": 34
        },
        "outputId": "346c0c6a-5113-4f2b-eddb-cd0f48b02862"
      },
      "source": [
        "# checking the shapes of partial derivatives\n",
        "print(\n",
        "    error_wrt_output.shape,\n",
        "    output_wrt_outputLayer_LinearTransform.shape,\n",
        "    outputLayer_LinearTransform_wrt_hiddenLayer_activations.shape,\n",
        "    hiddenLayer_activations_wrt_hiddenLayer_linearTransform.shape,\n",
        "    hiddenLayer_linearTransform_wrt_weights_input_hidden.shape,\n",
        ")"
      ],
      "execution_count": 28,
      "outputs": [
        {
          "output_type": "stream",
          "text": [
            "(1, 3) (1, 3) (3, 1) (3, 3) (4, 3)\n"
          ],
          "name": "stdout"
        }
      ]
    },
    {
      "cell_type": "code",
      "metadata": {
        "colab_type": "code",
        "id": "1uka_yPrNFVV",
        "colab": {
          "base_uri": "https://localhost:8080/",
          "height": 34
        },
        "outputId": "0610b524-50cf-4d26-af18-0d11d5eeb5dd"
      },
      "source": [
        "# shape of weights of hidden layer\n",
        "weights_input_hidden.shape"
      ],
      "execution_count": 29,
      "outputs": [
        {
          "output_type": "execute_result",
          "data": {
            "text/plain": [
              "(4, 3)"
            ]
          },
          "metadata": {
            "tags": []
          },
          "execution_count": 29
        }
      ]
    },
    {
      "cell_type": "markdown",
      "metadata": {
        "colab_type": "text",
        "id": "gCeSm7vrHbHj"
      },
      "source": [
        "![alt text](https://drive.google.com/uc?id=1RkG5x1NEFWlF3tj0OlswOWvBcV5XNV1C)"
      ]
    },
    {
      "cell_type": "code",
      "metadata": {
        "colab_type": "code",
        "id": "XTPNf3E5NFVs",
        "colab": {}
      },
      "source": [
        "# rate of change of error w.r.t weights between input and hidden layer\n",
        "error_wrt_weights_input_hidden = np.dot(\n",
        "    hiddenLayer_linearTransform_wrt_weights_input_hidden,\n",
        "    (\n",
        "        hiddenLayer_activations_wrt_hiddenLayer_linearTransform\n",
        "        * np.dot(\n",
        "            outputLayer_LinearTransform_wrt_hiddenLayer_activations,\n",
        "            (output_wrt_outputLayer_LinearTransform * error_wrt_output),\n",
        "        )\n",
        "    ).T,\n",
        ")"
      ],
      "execution_count": 30,
      "outputs": []
    },
    {
      "cell_type": "code",
      "metadata": {
        "colab_type": "code",
        "id": "_WN0I-mpNFVw",
        "colab": {
          "base_uri": "https://localhost:8080/",
          "height": 34
        },
        "outputId": "2f2c1dbe-52ba-47db-f2df-5e39d42aea9f"
      },
      "source": [
        "error_wrt_weights_input_hidden.shape"
      ],
      "execution_count": 31,
      "outputs": [
        {
          "output_type": "execute_result",
          "data": {
            "text/plain": [
              "(4, 3)"
            ]
          },
          "metadata": {
            "tags": []
          },
          "execution_count": 31
        }
      ]
    },
    {
      "cell_type": "markdown",
      "metadata": {
        "colab_type": "text",
        "id": "W2bu4H5-NFVz"
      },
      "source": [
        "### Update the parameters"
      ]
    },
    {
      "cell_type": "markdown",
      "metadata": {
        "colab_type": "text",
        "id": "-nmJnY_PNFV1"
      },
      "source": [
        "![alt text](https://drive.google.com/uc?id=1A5jaB3WjZx9yrJkk9imVEvP3PZodjapE)"
      ]
    },
    {
      "cell_type": "code",
      "metadata": {
        "colab_type": "code",
        "id": "_r59xEpINFV2",
        "colab": {}
      },
      "source": [
        "# defining the learning rate\n",
        "lr = 0.01"
      ],
      "execution_count": 32,
      "outputs": []
    },
    {
      "cell_type": "code",
      "metadata": {
        "colab_type": "code",
        "id": "aiBFNXd3NFV7",
        "colab": {
          "base_uri": "https://localhost:8080/",
          "height": 69
        },
        "outputId": "07b26520-3e50-423e-a218-80a68a875a9f"
      },
      "source": [
        "# initial weights_hidden_output\n",
        "weights_hidden_output"
      ],
      "execution_count": 33,
      "outputs": [
        {
          "output_type": "execute_result",
          "data": {
            "text/plain": [
              "array([[0.83244264],\n",
              "       [0.21233911],\n",
              "       [0.18182497]])"
            ]
          },
          "metadata": {
            "tags": []
          },
          "execution_count": 33
        }
      ]
    },
    {
      "cell_type": "code",
      "metadata": {
        "colab_type": "code",
        "id": "CuosFKUENFWB",
        "scrolled": true,
        "colab": {
          "base_uri": "https://localhost:8080/",
          "height": 86
        },
        "outputId": "b127e2f5-4d08-4d23-9f5f-aaf9971bc0af"
      },
      "source": [
        "# initial weights_input_hidden\n",
        "weights_input_hidden"
      ],
      "execution_count": 34,
      "outputs": [
        {
          "output_type": "execute_result",
          "data": {
            "text/plain": [
              "array([[0.37454012, 0.95071431, 0.73199394],\n",
              "       [0.59865848, 0.15601864, 0.15599452],\n",
              "       [0.05808361, 0.86617615, 0.60111501],\n",
              "       [0.70807258, 0.02058449, 0.96990985]])"
            ]
          },
          "metadata": {
            "tags": []
          },
          "execution_count": 34
        }
      ]
    },
    {
      "cell_type": "code",
      "metadata": {
        "colab_type": "code",
        "id": "D_Va2xywNFWF",
        "colab": {}
      },
      "source": [
        "# updating the weights of output layer\n",
        "weights_hidden_output = weights_hidden_output - lr * error_wrt_weights_hidden_output"
      ],
      "execution_count": 35,
      "outputs": []
    },
    {
      "cell_type": "code",
      "metadata": {
        "colab_type": "code",
        "id": "ruFlc96BNFWL",
        "colab": {}
      },
      "source": [
        "# updating the weights of hidden layer\n",
        "weights_input_hidden = weights_input_hidden - lr * error_wrt_weights_input_hidden"
      ],
      "execution_count": 36,
      "outputs": []
    },
    {
      "cell_type": "code",
      "metadata": {
        "colab_type": "code",
        "id": "NTf4nS1xNFWP",
        "colab": {
          "base_uri": "https://localhost:8080/",
          "height": 69
        },
        "outputId": "34890c4b-e441-4aa6-ce00-0b6b04a3a31d"
      },
      "source": [
        "# updated weights_hidden_output\n",
        "weights_hidden_output"
      ],
      "execution_count": 37,
      "outputs": [
        {
          "output_type": "execute_result",
          "data": {
            "text/plain": [
              "array([[0.83211079],\n",
              "       [0.21250681],\n",
              "       [0.18167831]])"
            ]
          },
          "metadata": {
            "tags": []
          },
          "execution_count": 37
        }
      ]
    },
    {
      "cell_type": "code",
      "metadata": {
        "colab_type": "code",
        "id": "7VYNPPNlNFWU",
        "colab": {
          "base_uri": "https://localhost:8080/",
          "height": 86
        },
        "outputId": "bd6bc8eb-4570-4a6f-ff28-347f99db88d6"
      },
      "source": [
        "# updated weights_input_hidden\n",
        "weights_input_hidden"
      ],
      "execution_count": 38,
      "outputs": [
        {
          "output_type": "execute_result",
          "data": {
            "text/plain": [
              "array([[0.37476062, 0.95075719, 0.7320294 ],\n",
              "       [0.59845481, 0.15594177, 0.15594545],\n",
              "       [0.05816641, 0.86618978, 0.60112315],\n",
              "       [0.70795169, 0.02052126, 0.96986892]])"
            ]
          },
          "metadata": {
            "tags": []
          },
          "execution_count": 38
        }
      ]
    },
    {
      "cell_type": "markdown",
      "metadata": {
        "colab_type": "text",
        "id": "SxLy6DZlNFWY"
      },
      "source": [
        "## 6. Train the model for multiple epochs"
      ]
    },
    {
      "cell_type": "code",
      "metadata": {
        "colab_type": "code",
        "id": "8HKS9vIyNFWZ",
        "colab": {}
      },
      "source": [
        "# defining the model architecture\n",
        "inputLayer_neurons = X.shape[0]  # number of features in data set\n",
        "hiddenLayer_neurons = 3  # number of hidden layers neurons\n",
        "outputLayer_neurons = 1  # number of neurons at output layer\n",
        "\n",
        "# initializing weight\n",
        "weights_input_hidden = np.random.uniform(size=(inputLayer_neurons, hiddenLayer_neurons))\n",
        "weights_hidden_output = np.random.uniform(\n",
        "    size=(hiddenLayer_neurons, outputLayer_neurons)\n",
        ")\n",
        "\n",
        "# defining the parameters\n",
        "lr = 0.1\n",
        "epochs = 1000"
      ],
      "execution_count": 39,
      "outputs": []
    },
    {
      "cell_type": "code",
      "metadata": {
        "colab_type": "code",
        "id": "_yVAcyW_NFWk",
        "colab": {
          "base_uri": "https://localhost:8080/",
          "height": 191
        },
        "outputId": "9e5d717f-e053-43c2-8da6-c2e437ed65de"
      },
      "source": [
        "losses = []\n",
        "for epoch in range(epochs):\n",
        "    ## Forward Propogation\n",
        "\n",
        "    # calculating hidden layer activations\n",
        "    hiddenLayer_linearTransform = np.dot(weights_input_hidden.T, X)\n",
        "    hiddenLayer_activations = sigmoid(hiddenLayer_linearTransform)\n",
        "\n",
        "    # calculating the output\n",
        "    outputLayer_linearTransform = np.dot(\n",
        "        weights_hidden_output.T, hiddenLayer_activations\n",
        "    )\n",
        "    output = sigmoid(outputLayer_linearTransform)\n",
        "\n",
        "    ## Backward Propagation\n",
        "\n",
        "    # calculating error\n",
        "    error = np.square(y - output) / 2\n",
        "\n",
        "    # calculating rate of change of error w.r.t weight between hidden and output layer\n",
        "    error_wrt_output = -(y - output)\n",
        "    output_wrt_outputLayer_LinearTransform = np.multiply(output, (1 - output))\n",
        "    outputLayer_LinearTransform_wrt_weights_hidden_output = hiddenLayer_activations\n",
        "\n",
        "    error_wrt_weights_hidden_output = np.dot(\n",
        "        outputLayer_LinearTransform_wrt_weights_hidden_output,\n",
        "        (error_wrt_output * output_wrt_outputLayer_LinearTransform).T,\n",
        "    )\n",
        "\n",
        "    # calculating rate of change of error w.r.t weights between input and hidden layer\n",
        "    outputLayer_LinearTransform_wrt_hiddenLayer_activations = weights_hidden_output\n",
        "    hiddenLayer_activations_wrt_hiddenLayer_linearTransform = np.multiply(\n",
        "        hiddenLayer_activations, (1 - hiddenLayer_activations)\n",
        "    )\n",
        "    hiddenLayer_linearTransform_wrt_weights_input_hidden = X\n",
        "    error_wrt_weights_input_hidden = np.dot(\n",
        "        hiddenLayer_linearTransform_wrt_weights_input_hidden,\n",
        "        (\n",
        "            hiddenLayer_activations_wrt_hiddenLayer_linearTransform\n",
        "            * np.dot(\n",
        "                outputLayer_LinearTransform_wrt_hiddenLayer_activations,\n",
        "                (output_wrt_outputLayer_LinearTransform * error_wrt_output),\n",
        "            )\n",
        "        ).T,\n",
        "    )\n",
        "\n",
        "    # updating the weights\n",
        "    weights_hidden_output = weights_hidden_output - lr * error_wrt_weights_hidden_output\n",
        "    weights_input_hidden = weights_input_hidden - lr * error_wrt_weights_input_hidden\n",
        "\n",
        "    # print error at every 100th epoch\n",
        "    epoch_loss = np.average(error)\n",
        "    if epoch % 100 == 0:\n",
        "        print(f\"Error at epoch {epoch} is {epoch_loss:.5f}\")\n",
        "\n",
        "    # appending the error of each epoch\n",
        "    losses.append(epoch_loss)"
      ],
      "execution_count": 40,
      "outputs": [
        {
          "output_type": "stream",
          "text": [
            "Error at epoch 0 is 0.11553\n",
            "Error at epoch 100 is 0.11082\n",
            "Error at epoch 200 is 0.10606\n",
            "Error at epoch 300 is 0.09845\n",
            "Error at epoch 400 is 0.08483\n",
            "Error at epoch 500 is 0.06396\n",
            "Error at epoch 600 is 0.04206\n",
            "Error at epoch 700 is 0.02641\n",
            "Error at epoch 800 is 0.01719\n",
            "Error at epoch 900 is 0.01190\n"
          ],
          "name": "stdout"
        }
      ]
    },
    {
      "cell_type": "code",
      "metadata": {
        "colab_type": "code",
        "id": "Ra5mTgwUNFWo",
        "colab": {
          "base_uri": "https://localhost:8080/",
          "height": 86
        },
        "outputId": "a7d314be-c563-4218-a191-40f0e5992773"
      },
      "source": [
        "# updated w_ih\n",
        "weights_input_hidden"
      ],
      "execution_count": 41,
      "outputs": [
        {
          "output_type": "execute_result",
          "data": {
            "text/plain": [
              "array([[ 1.25679149,  1.72312858, -0.27336634],\n",
              "       [-1.07615756, -1.73777864,  1.42316207],\n",
              "       [ 0.63053865,  0.88090942, -0.03448117],\n",
              "       [-0.56098781, -0.65506704,  0.61013995]])"
            ]
          },
          "metadata": {
            "tags": []
          },
          "execution_count": 41
        }
      ]
    },
    {
      "cell_type": "code",
      "metadata": {
        "id": "ncRRRhdirair",
        "colab_type": "code",
        "colab": {
          "base_uri": "https://localhost:8080/",
          "height": 69
        },
        "outputId": "17bef20e-894f-414e-ba0e-895f35f7d21e"
      },
      "source": [
        "# updated w_ho\n",
        "weights_hidden_output"
      ],
      "execution_count": 42,
      "outputs": [
        {
          "output_type": "execute_result",
          "data": {
            "text/plain": [
              "array([[ 1.45176252],\n",
              "       [ 2.59109536],\n",
              "       [-2.18347501]])"
            ]
          },
          "metadata": {
            "tags": []
          },
          "execution_count": 42
        }
      ]
    },
    {
      "cell_type": "code",
      "metadata": {
        "colab_type": "code",
        "id": "WeN2dcc0NFW8",
        "scrolled": true,
        "colab": {
          "base_uri": "https://localhost:8080/",
          "height": 285
        },
        "outputId": "36c2519b-7b61-440f-99b1-8c476ba90415"
      },
      "source": [
        "# visualizing the error after each epoch\n",
        "plt.plot(np.arange(1, epochs + 1), np.array(losses))"
      ],
      "execution_count": 43,
      "outputs": [
        {
          "output_type": "execute_result",
          "data": {
            "text/plain": [
              "[<matplotlib.lines.Line2D at 0x7f399fe9f278>]"
            ]
          },
          "metadata": {
            "tags": []
          },
          "execution_count": 43
        },
        {
          "output_type": "display_data",
          "data": {
            "image/png": "[encoded data removed]",
            "text/plain": [
              "<Figure size 432x288 with 1 Axes>"
            ]
          },
          "metadata": {
            "tags": [],
            "needs_background": "light"
          }
        }
      ]
    },
    {
      "cell_type": "code",
      "metadata": {
        "colab_type": "code",
        "id": "bJlcGoeUNFXA",
        "colab": {
          "base_uri": "https://localhost:8080/",
          "height": 34
        },
        "outputId": "373881a8-db77-479b-dada-8cd2e47ef88e"
      },
      "source": [
        "# final output from the model\n",
        "output"
      ],
      "execution_count": 44,
      "outputs": [
        {
          "output_type": "execute_result",
          "data": {
            "text/plain": [
              "array([[0.9155779 , 0.89643511, 0.18608711]])"
            ]
          },
          "metadata": {
            "tags": []
          },
          "execution_count": 44
        }
      ]
    },
    {
      "cell_type": "code",
      "metadata": {
        "colab_type": "code",
        "id": "ARNn3MiKNFXF",
        "colab": {
          "base_uri": "https://localhost:8080/",
          "height": 34
        },
        "outputId": "d0b245bf-9b23-4cad-aa6b-d1924ed3e821"
      },
      "source": [
        "# actual target\n",
        "y"
      ],
      "execution_count": 45,
      "outputs": [
        {
          "output_type": "execute_result",
          "data": {
            "text/plain": [
              "array([[1, 1, 0]])"
            ]
          },
          "metadata": {
            "tags": []
          },
          "execution_count": 45
        }
      ]
    },
    {
      "cell_type": "markdown",
      "metadata": {
        "id": "kImrrAcsrai0",
        "colab_type": "text"
      },
      "source": [
        "---"
      ]
    },
    {
      "cell_type": "code",
      "metadata": {
        "id": "fSkVIPP-rai2",
        "colab_type": "code",
        "colab": {}
      },
      "source": [
        "from sklearn.datasets import make_moons\n",
        "\n",
        "X, y = make_moons(n_samples=1000, random_state=42, noise=0.1)"
      ],
      "execution_count": 46,
      "outputs": []
    },
    {
      "cell_type": "code",
      "metadata": {
        "id": "UaFOpfTYrai4",
        "colab_type": "code",
        "colab": {
          "base_uri": "https://localhost:8080/",
          "height": 282
        },
        "outputId": "4a1c76ab-c6b0-4b3e-a0ed-50760593cd9b"
      },
      "source": [
        "plt.scatter(X[:, 0], X[:, 1], s=10, c=y)"
      ],
      "execution_count": 47,
      "outputs": [
        {
          "output_type": "execute_result",
          "data": {
            "text/plain": [
              "<matplotlib.collections.PathCollection at 0x7f3993e82198>"
            ]
          },
          "metadata": {
            "tags": []
          },
          "execution_count": 47
        },
        {
          "output_type": "display_data",
          "data": {
            "image/png": "[encoded data removed]",
            "text/plain": [
              "<Figure size 432x288 with 1 Axes>"
            ]
          },
          "metadata": {
            "tags": [],
            "needs_background": "light"
          }
        }
      ]
    },
    {
      "cell_type": "code",
      "metadata": {
        "id": "14xxesCSrai_",
        "colab_type": "code",
        "colab": {
          "base_uri": "https://localhost:8080/",
          "height": 139
        },
        "outputId": "e442cd91-c463-47f5-e53c-5aa78aa6ab8d"
      },
      "source": [
        "X"
      ],
      "execution_count": 48,
      "outputs": [
        {
          "output_type": "execute_result",
          "data": {
            "text/plain": [
              "array([[-0.05146968,  0.44419863],\n",
              "       [ 1.03201691, -0.41974116],\n",
              "       [ 0.86789186, -0.25482711],\n",
              "       ...,\n",
              "       [ 1.68425911, -0.34822268],\n",
              "       [-0.9672013 ,  0.26367208],\n",
              "       [ 0.78758971,  0.61660945]])"
            ]
          },
          "metadata": {
            "tags": []
          },
          "execution_count": 48
        }
      ]
    },
    {
      "cell_type": "code",
      "metadata": {
        "id": "CYPqOhoNrajC",
        "colab_type": "code",
        "colab": {}
      },
      "source": [
        "X -= X.min()\n",
        "X /= X.max()"
      ],
      "execution_count": 49,
      "outputs": []
    },
    {
      "cell_type": "code",
      "metadata": {
        "id": "5mFbA4YWrajE",
        "colab_type": "code",
        "colab": {
          "base_uri": "https://localhost:8080/",
          "height": 34
        },
        "outputId": "3315cc0c-1fe5-4b5c-d847-168d9ba8bb28"
      },
      "source": [
        "X.min(), X.max()"
      ],
      "execution_count": 50,
      "outputs": [
        {
          "output_type": "execute_result",
          "data": {
            "text/plain": [
              "(0.0, 1.0)"
            ]
          },
          "metadata": {
            "tags": []
          },
          "execution_count": 50
        }
      ]
    },
    {
      "cell_type": "code",
      "metadata": {
        "id": "7jA_Og4FrajG",
        "colab_type": "code",
        "colab": {
          "base_uri": "https://localhost:8080/",
          "height": 34
        },
        "outputId": "576c1857-174c-4f9a-aff1-d1f4f25ca8da"
      },
      "source": [
        "np.unique(y)"
      ],
      "execution_count": 51,
      "outputs": [
        {
          "output_type": "execute_result",
          "data": {
            "text/plain": [
              "array([0, 1])"
            ]
          },
          "metadata": {
            "tags": []
          },
          "execution_count": 51
        }
      ]
    },
    {
      "cell_type": "code",
      "metadata": {
        "id": "rUF7MVdPrajI",
        "colab_type": "code",
        "colab": {
          "base_uri": "https://localhost:8080/",
          "height": 34
        },
        "outputId": "f020dda6-5742-4554-d2da-b08175db0e82"
      },
      "source": [
        "X.shape, y.shape"
      ],
      "execution_count": 52,
      "outputs": [
        {
          "output_type": "execute_result",
          "data": {
            "text/plain": [
              "((1000, 2), (1000,))"
            ]
          },
          "metadata": {
            "tags": []
          },
          "execution_count": 52
        }
      ]
    },
    {
      "cell_type": "code",
      "metadata": {
        "id": "dOWg-GBOrajK",
        "colab_type": "code",
        "colab": {}
      },
      "source": [
        "X = X.T\n",
        "\n",
        "y = y.reshape(1, -1)"
      ],
      "execution_count": 53,
      "outputs": []
    },
    {
      "cell_type": "code",
      "metadata": {
        "id": "W8sP8ri4rajL",
        "colab_type": "code",
        "colab": {
          "base_uri": "https://localhost:8080/",
          "height": 34
        },
        "outputId": "fd7086cd-0db4-4319-d61c-a0d2b7fd5dac"
      },
      "source": [
        "X.shape, y.shape"
      ],
      "execution_count": 54,
      "outputs": [
        {
          "output_type": "execute_result",
          "data": {
            "text/plain": [
              "((2, 1000), (1, 1000))"
            ]
          },
          "metadata": {
            "tags": []
          },
          "execution_count": 54
        }
      ]
    },
    {
      "cell_type": "code",
      "metadata": {
        "id": "reJ-8MUIrajN",
        "colab_type": "code",
        "colab": {
          "base_uri": "https://localhost:8080/",
          "height": 191
        },
        "outputId": "f0473754-d6de-4b63-b2ba-007c1d0faa29"
      },
      "source": [
        "# defining the model architecture\n",
        "inputLayer_neurons = X.shape[0]  # number of features in data set\n",
        "hiddenLayer_neurons = 10  # number of hidden layers neurons\n",
        "outputLayer_neurons = 1  # number of neurons at output layer\n",
        "\n",
        "# initializing weight\n",
        "weights_input_hidden = np.random.uniform(size=(inputLayer_neurons, hiddenLayer_neurons))\n",
        "weights_hidden_output = np.random.uniform(\n",
        "    size=(hiddenLayer_neurons, outputLayer_neurons)\n",
        ")\n",
        "\n",
        "# defining the parameters\n",
        "lr = 0.1\n",
        "epochs = 10000\n",
        "\n",
        "losses = []\n",
        "for epoch in range(epochs):\n",
        "    ## Forward Propogation\n",
        "\n",
        "    # calculating hidden layer activations\n",
        "    hiddenLayer_linearTransform = np.dot(weights_input_hidden.T, X)\n",
        "    hiddenLayer_activations = sigmoid(hiddenLayer_linearTransform)\n",
        "\n",
        "    # calculating the output\n",
        "    outputLayer_linearTransform = np.dot(\n",
        "        weights_hidden_output.T, hiddenLayer_activations\n",
        "    )\n",
        "    output = sigmoid(outputLayer_linearTransform)\n",
        "\n",
        "    ## Backward Propagation\n",
        "\n",
        "    # calculating error\n",
        "    error = np.square(y - output) / 2\n",
        "\n",
        "    # calculating rate of change of error w.r.t weight between hidden and output layer\n",
        "    error_wrt_output = -(y - output)\n",
        "    output_wrt_outputLayer_LinearTransform = np.multiply(output, (1 - output))\n",
        "    outputLayer_LinearTransform_wrt_weights_hidden_output = hiddenLayer_activations\n",
        "\n",
        "    error_wrt_weights_hidden_output = np.dot(\n",
        "        outputLayer_LinearTransform_wrt_weights_hidden_output,\n",
        "        (error_wrt_output * output_wrt_outputLayer_LinearTransform).T,\n",
        "    )\n",
        "\n",
        "    # calculating rate of change of error w.r.t weights between input and hidden layer\n",
        "    outputLayer_LinearTransform_wrt_hiddenLayer_activations = weights_hidden_output\n",
        "    hiddenLayer_activations_wrt_hiddenLayer_linearTransform = np.multiply(\n",
        "        hiddenLayer_activations, (1 - hiddenLayer_activations)\n",
        "    )\n",
        "    hiddenLayer_linearTransform_wrt_weights_input_hidden = X\n",
        "    error_wrt_weights_input_hidden = np.dot(\n",
        "        hiddenLayer_linearTransform_wrt_weights_input_hidden,\n",
        "        (\n",
        "            hiddenLayer_activations_wrt_hiddenLayer_linearTransform\n",
        "            * np.dot(\n",
        "                outputLayer_LinearTransform_wrt_hiddenLayer_activations,\n",
        "                (output_wrt_outputLayer_LinearTransform * error_wrt_output),\n",
        "            )\n",
        "        ).T,\n",
        "    )\n",
        "\n",
        "    # updating the weights\n",
        "    weights_hidden_output = weights_hidden_output - lr * error_wrt_weights_hidden_output\n",
        "    weights_input_hidden = weights_input_hidden - lr * error_wrt_weights_input_hidden\n",
        "\n",
        "    # print error at every 100th epoch\n",
        "    epoch_loss = np.average(error)\n",
        "    if epoch % 1000 == 0:\n",
        "        print(f\"Error at epoch {epoch} is {epoch_loss:.5f}\")\n",
        "\n",
        "    # appending the error of each epoch\n",
        "    losses.append(epoch_loss)"
      ],
      "execution_count": 55,
      "outputs": [
        {
          "output_type": "stream",
          "text": [
            "Error at epoch 0 is 0.23478\n",
            "Error at epoch 1000 is 0.25000\n",
            "Error at epoch 2000 is 0.25000\n",
            "Error at epoch 3000 is 0.25000\n",
            "Error at epoch 4000 is 0.05129\n",
            "Error at epoch 5000 is 0.02163\n",
            "Error at epoch 6000 is 0.01157\n",
            "Error at epoch 7000 is 0.00745\n",
            "Error at epoch 8000 is 0.00713\n",
            "Error at epoch 9000 is 0.00642\n"
          ],
          "name": "stdout"
        }
      ]
    },
    {
      "cell_type": "code",
      "metadata": {
        "id": "0PRn6H5YrajQ",
        "colab_type": "code",
        "colab": {
          "base_uri": "https://localhost:8080/",
          "height": 282
        },
        "outputId": "1c35deee-e83f-4a7c-9744-364cb677275d"
      },
      "source": [
        "# visualizing the error after each epoch\n",
        "plt.plot(np.arange(1, epochs + 1), np.array(losses))"
      ],
      "execution_count": 56,
      "outputs": [
        {
          "output_type": "execute_result",
          "data": {
            "text/plain": [
              "[<matplotlib.lines.Line2D at 0x7f39915c3438>]"
            ]
          },
          "metadata": {
            "tags": []
          },
          "execution_count": 56
        },
        {
          "output_type": "display_data",
          "data": {
            "image/png": "[encoded data removed]",
            "text/plain": [
              "<Figure size 432x288 with 1 Axes>"
            ]
          },
          "metadata": {
            "tags": [],
            "needs_background": "light"
          }
        }
      ]
    },
    {
      "cell_type": "code",
      "metadata": {
        "id": "3q1DUTKirajR",
        "colab_type": "code",
        "colab": {
          "base_uri": "https://localhost:8080/",
          "height": 52
        },
        "outputId": "0b5fc5bd-aa86-4f36-90a9-44ff0f2a1999"
      },
      "source": [
        "# final output from the model\n",
        "output[:, :5]"
      ],
      "execution_count": 57,
      "outputs": [
        {
          "output_type": "execute_result",
          "data": {
            "text/plain": [
              "array([[9.64781360e-01, 9.98834309e-01, 9.95018421e-01, 9.99193286e-01,\n",
              "        9.11292450e-08]])"
            ]
          },
          "metadata": {
            "tags": []
          },
          "execution_count": 57
        }
      ]
    },
    {
      "cell_type": "code",
      "metadata": {
        "id": "Twysplz1rajU",
        "colab_type": "code",
        "colab": {
          "base_uri": "https://localhost:8080/",
          "height": 34
        },
        "outputId": "955bc224-910d-41b1-e238-54411ed31888"
      },
      "source": [
        "y[:, :5]"
      ],
      "execution_count": 58,
      "outputs": [
        {
          "output_type": "execute_result",
          "data": {
            "text/plain": [
              "array([[1, 1, 1, 1, 0]])"
            ]
          },
          "metadata": {
            "tags": []
          },
          "execution_count": 58
        }
      ]
    },
    {
      "cell_type": "code",
      "metadata": {
        "id": "5qFlH9xbrajV",
        "colab_type": "code",
        "colab": {
          "base_uri": "https://localhost:8080/",
          "height": 282
        },
        "outputId": "88e6f398-4b07-4f7a-fa53-6b5a259ce5bb"
      },
      "source": [
        "# Define region of interest by data limits\n",
        "steps = 1000\n",
        "x_span = np.linspace(X[0, :].min(), X[0, :].max(), steps)\n",
        "y_span = np.linspace(X[1, :].min(), X[1, :].max(), steps)\n",
        "xx, yy = np.meshgrid(x_span, y_span)\n",
        "\n",
        "# forward pass for region of interest\n",
        "hiddenLayer_linearTransform = np.dot(\n",
        "    weights_input_hidden.T, np.c_[xx.ravel(), yy.ravel()].T\n",
        ")\n",
        "hiddenLayer_activations = sigmoid(hiddenLayer_linearTransform)\n",
        "outputLayer_linearTransform = np.dot(weights_hidden_output.T, hiddenLayer_activations)\n",
        "output_span = sigmoid(outputLayer_linearTransform)\n",
        "\n",
        "# Make predictions across region of interest\n",
        "labels = (output_span > 0.5).astype(int)\n",
        "\n",
        "# Plot decision boundary in region of interest\n",
        "z = labels.reshape(xx.shape)\n",
        "fig, ax = plt.subplots()\n",
        "ax.contourf(xx, yy, z, alpha=0.2)\n",
        "\n",
        "# Get predicted labels on training data and plot\n",
        "train_labels = (output > 0.5).astype(int)\n",
        "\n",
        "# create scatter plot\n",
        "ax.scatter(X[0, :], X[1, :], s=10, c=y.squeeze())"
      ],
      "execution_count": 59,
      "outputs": [
        {
          "output_type": "execute_result",
          "data": {
            "text/plain": [
              "<matplotlib.collections.PathCollection at 0x7f39915a7780>"
            ]
          },
          "metadata": {
            "tags": []
          },
          "execution_count": 59
        },
        {
          "output_type": "display_data",
          "data": {
            "image/png": "[encoded data removed]",
            "text/plain": [
              "<Figure size 432x288 with 1 Axes>"
            ]
          },
          "metadata": {
            "tags": [],
            "needs_background": "light"
          }
        }
      ]
    }
  ]
}