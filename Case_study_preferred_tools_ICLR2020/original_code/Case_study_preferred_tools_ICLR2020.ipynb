{
 "cells": [
  {
   "cell_type": "code",
   "execution_count": null,
   "metadata": {},
   "outputs": [],
   "source": [
    "!pip install openreview-py\n",
    "!pip install pipreqs"
   ]
  },
  {
   "cell_type": "code",
   "execution_count": null,
   "metadata": {},
   "outputs": [],
   "source": [
    "%matplotlib inline\n",
    "\n",
    "import os\n",
    "import re\n",
    "import sys\n",
    "import requests\n",
    "import openreview\n",
    "import pandas as pd\n",
    "import matplotlib.pyplot as plt\n",
    "\n",
    "from random import choice\n",
    "from wordcloud import WordCloud\n",
    "from urllib.parse import urlparse"
   ]
  },
  {
   "cell_type": "code",
   "execution_count": null,
   "metadata": {},
   "outputs": [],
   "source": [
    "client = openreview.Client(baseurl=\"https://openreview.net\")\n",
    "\n",
    "blind_notes = {\n",
    "    note.id: note\n",
    "    for note in openreview.tools.iterget_notes(\n",
    "        client,\n",
    "        invitation=\"ICLR.cc/2020/Conference/-/Blind_Submission\",\n",
    "        details=\"original\",\n",
    "    )\n",
    "}\n",
    "\n",
    "all_decision_notes = openreview.tools.iterget_notes(\n",
    "    client, invitation=\"ICLR.cc/2020/Conference/Paper.*/-/Decision\"\n",
    ")\n",
    "\n",
    "accepted_submissions = [\n",
    "    blind_notes[decision_note.forum]\n",
    "    for decision_note in all_decision_notes\n",
    "    if \"Accept\" in decision_note.content[\"decision\"]\n",
    "]\n",
    "\n",
    "len(accepted_submissions)"
   ]
  },
  {
   "cell_type": "code",
   "execution_count": null,
   "metadata": {},
   "outputs": [],
   "source": [
    "code_present = 0\n",
    "code_links = []\n",
    "for note in accepted_submissions:\n",
    "    try:\n",
    "        code_links.append(note.content[\"code\"])\n",
    "        # print(\"code found\")\n",
    "        code_present += 1\n",
    "    except:\n",
    "        print(\"Unexpected error:\", sys.exc_info()[0])"
   ]
  },
  {
   "cell_type": "code",
   "execution_count": null,
   "metadata": {},
   "outputs": [],
   "source": [
    "code_present"
   ]
  },
  {
   "cell_type": "code",
   "execution_count": null,
   "metadata": {},
   "outputs": [],
   "source": [
    "urlparse(choice(code_links))"
   ]
  },
  {
   "cell_type": "code",
   "execution_count": null,
   "metadata": {},
   "outputs": [],
   "source": [
    "code_links_df = pd.DataFrame({\"links\": code_links})"
   ]
  },
  {
   "cell_type": "code",
   "execution_count": null,
   "metadata": {},
   "outputs": [],
   "source": [
    "code_links_df[\"domains\"] = code_links_df.links.apply(lambda x: urlparse(x)[1])"
   ]
  },
  {
   "cell_type": "code",
   "execution_count": null,
   "metadata": {},
   "outputs": [],
   "source": [
    "code_links_df.domains.value_counts()"
   ]
  },
  {
   "cell_type": "code",
   "execution_count": null,
   "metadata": {},
   "outputs": [],
   "source": [
    "temp_link = \"\"\n",
    "\n",
    "\n",
    "def clean_github_link(link):\n",
    "    link = link.strip()\n",
    "    if not link[-4:] == \".git\":\n",
    "        return link + \".git\"\n",
    "    else:\n",
    "        return link\n",
    "\n",
    "\n",
    "github_repo_links = (\n",
    "    code_links_df.loc[code_links_df.domains == \"github.com\"]\n",
    "    .links.apply(clean_github_link)\n",
    "    .values\n",
    ")"
   ]
  },
  {
   "cell_type": "code",
   "execution_count": null,
   "metadata": {},
   "outputs": [],
   "source": [
    "# takes about 24 minutes to download\n",
    "for link in github_repo_links:\n",
    "    !git clone $link --depth 1 --quiet"
   ]
  },
  {
   "cell_type": "code",
   "execution_count": null,
   "metadata": {},
   "outputs": [],
   "source": [
    "code_links_df.loc[code_links_df.domains == \"github.com\"].links.apply(\n",
    "    lambda x: urlparse(x)[2].split(\"/\")[1]\n",
    ").value_counts().head(10)"
   ]
  },
  {
   "cell_type": "code",
   "execution_count": null,
   "metadata": {},
   "outputs": [],
   "source": [
    "root = \".\"\n",
    "dirlist = [item for item in os.listdir(root) if os.path.isdir(os.path.join(root, item))]\n",
    "print(dirlist)"
   ]
  },
  {
   "cell_type": "code",
   "execution_count": null,
   "metadata": {},
   "outputs": [],
   "source": [
    "dirlist.remove('.config')\n",
    "dirlist.remove('sample_data')"
   ]
  },
  {
   "cell_type": "code",
   "execution_count": null,
   "metadata": {},
   "outputs": [],
   "source": [
    "len(dirlist)"
   ]
  },
  {
   "cell_type": "code",
   "execution_count": null,
   "metadata": {},
   "outputs": [],
   "source": [
    "# takes about 10 minutes to run\n",
    "for repo in dirlist:\n",
    "    path = \"/content/\" + repo\n",
    "    if os.path.exists(path + \"/requirements.txt\"):\n",
    "        pass\n",
    "    else:\n",
    "        !pipreqs $path"
   ]
  },
  {
   "cell_type": "code",
   "execution_count": null,
   "metadata": {},
   "outputs": [],
   "source": [
    "has_req_cnt = no_req_cnt = 0\n",
    "for repo in dirlist:\n",
    "    path = \"/content/\" + repo\n",
    "    if os.path.exists(path + \"/requirements.txt\"):\n",
    "        has_req_cnt += 1\n",
    "    else:\n",
    "        no_req_cnt += 1"
   ]
  },
  {
   "cell_type": "code",
   "execution_count": null,
   "metadata": {},
   "outputs": [],
   "source": [
    "has_req_cnt, no_req_cnt"
   ]
  },
  {
   "cell_type": "code",
   "execution_count": null,
   "metadata": {},
   "outputs": [],
   "source": [
    "with open(\"/content/\" + dirlist[4] + \"/\" + \"requirements.txt\", \"r\") as f:\n",
    "    tools = f.readlines()"
   ]
  },
  {
   "cell_type": "code",
   "execution_count": null,
   "metadata": {},
   "outputs": [],
   "source": [
    "all_repo_names = []\n",
    "all_tool_names = []\n",
    "for repo in dirlist:\n",
    "    try:\n",
    "        repo_name = repo\n",
    "        with open(\"/content/\" + repo + \"/\" + \"requirements.txt\", \"r\") as f:\n",
    "            tools = f.readlines()\n",
    "        tool_names = \",\".join(tools).lower()\n",
    "\n",
    "        all_repo_names.append(repo_name)\n",
    "        all_tool_names.append(tool_names)\n",
    "    except:\n",
    "        print(\"Unexpected error for \", repo, sys.exc_info()[0])"
   ]
  },
  {
   "cell_type": "code",
   "execution_count": null,
   "metadata": {},
   "outputs": [],
   "source": [
    "all_tools = pd.DataFrame(\n",
    "    {\"all_repo_names\": all_repo_names, \"all_tool_names\": all_tool_names}\n",
    ")\n",
    "all_tools.head()"
   ]
  },
  {
   "cell_type": "code",
   "execution_count": null,
   "metadata": {},
   "outputs": [],
   "source": [
    "all_tools.to_csv(\"all_tools.csv\", index=False)"
   ]
  },
  {
   "cell_type": "code",
   "execution_count": null,
   "metadata": {},
   "outputs": [],
   "source": [
    "all_tools = pd.read_csv(\"all_tools.csv\")"
   ]
  },
  {
   "cell_type": "code",
   "execution_count": null,
   "metadata": {},
   "outputs": [],
   "source": [
    "all_tools.head()"
   ]
  },
  {
   "cell_type": "code",
   "execution_count": null,
   "metadata": {},
   "outputs": [],
   "source": [
    "all_tools.shape"
   ]
  },
  {
   "cell_type": "code",
   "execution_count": null,
   "metadata": {},
   "outputs": [],
   "source": [
    "def cleaner(tool_list):\n",
    "    cleaned_list = \"\"\n",
    "    try:\n",
    "        cleaned_list = []\n",
    "        for tool in tool_list:\n",
    "            cleaned_tool = re.findall(\"^\\w+\", tool)\n",
    "            if not cleaned_tool:\n",
    "                pass\n",
    "            else:\n",
    "                cleaned_list.append(cleaned_tool[0])\n",
    "        cleaned_list = \",\".join(cleaned_list)\n",
    "        return cleaned_list\n",
    "    except:\n",
    "        tool_list = \",\".join(tool_list)\n",
    "        \"unclean_list\".join(tool_list)\n",
    "        return tool_list\n",
    "\n",
    "\n",
    "all_tools[\"all_tool_names_cleaned\"] = all_tools.all_tool_names.str.split(\",\").apply(\n",
    "    cleaner\n",
    ")"
   ]
  },
  {
   "cell_type": "code",
   "execution_count": null,
   "metadata": {},
   "outputs": [],
   "source": [
    "all_tools.head()"
   ]
  },
  {
   "cell_type": "code",
   "execution_count": null,
   "metadata": {},
   "outputs": [],
   "source": [
    "all_tools.all_tool_names_cleaned.str.contains(\"torch\").sum()"
   ]
  },
  {
   "cell_type": "code",
   "execution_count": null,
   "metadata": {},
   "outputs": [],
   "source": [
    "def give_score(tool_name, offset=0):\n",
    "    num = all_tools.all_tool_names_cleaned.str.contains(tool_name).sum()\n",
    "    num += offset\n",
    "    print(\n",
    "        \"Count of {} is {} and total usage is {}%\".format(\n",
    "            tool_name, num, round((num / all_tools.shape[0]) * 100, 4)\n",
    "        )\n",
    "    )"
   ]
  },
  {
   "cell_type": "code",
   "execution_count": null,
   "metadata": {},
   "outputs": [],
   "source": [
    "give_score(\"torch\")\n",
    "print()\n",
    "give_score(\"tensorflow\", offset=12)\n",
    "print()\n",
    "give_score(\"keras\")"
   ]
  },
  {
   "cell_type": "code",
   "execution_count": null,
   "metadata": {},
   "outputs": [],
   "source": [
    "give_score(\"transformers\")"
   ]
  },
  {
   "cell_type": "code",
   "execution_count": null,
   "metadata": {},
   "outputs": [],
   "source": [
    "give_score(\"tensorboard\")"
   ]
  },
  {
   "cell_type": "code",
   "execution_count": null,
   "metadata": {},
   "outputs": [],
   "source": [
    "give_score(\"gym\")"
   ]
  },
  {
   "cell_type": "code",
   "execution_count": null,
   "metadata": {},
   "outputs": [],
   "source": [
    "give_score(\"networkx\")"
   ]
  },
  {
   "cell_type": "code",
   "execution_count": null,
   "metadata": {},
   "outputs": [],
   "source": [
    "all_tools.all_tool_names_cleaned.str.split(\",\", expand=True).stack().unique().shape"
   ]
  },
  {
   "cell_type": "code",
   "execution_count": null,
   "metadata": {},
   "outputs": [],
   "source": [
    "all_tools.all_tool_names_cleaned.str.split(\",\", expand=True).stack().value_counts()[:50]"
   ]
  },
  {
   "cell_type": "code",
   "execution_count": null,
   "metadata": {},
   "outputs": [],
   "source": [
    "all_tools.all_tool_names_cleaned.str.split(\",\", expand=True).stack().value_counts()[\n",
    "    :10\n",
    "].plot(kind=\"bar\")"
   ]
  },
  {
   "cell_type": "code",
   "execution_count": null,
   "metadata": {},
   "outputs": [],
   "source": [
    "all_tool_string = \",\".join(all_tools.all_tool_names_cleaned)\n",
    "\n",
    "wordcloud = WordCloud(background_color=\"white\", max_words=100)\n",
    "wordcloud.generate(all_tool_string)\n",
    "\n",
    "plt.figure(figsize=(10, 20))\n",
    "plt.imshow(wordcloud)\n",
    "plt.axis(\"off\")\n",
    "plt.show()"
   ]
  }
 ],
 "metadata": {
  "kernelspec": {
   "display_name": "Python 3",
   "language": "python",
   "name": "python3"
  },
  "language_info": {
   "codemirror_mode": {
    "name": "ipython",
    "version": 3
   },
   "file_extension": ".py",
   "mimetype": "text/x-python",
   "name": "python",
   "nbconvert_exporter": "python",
   "pygments_lexer": "ipython3",
   "version": "3.7.3"
  }
 },
 "nbformat": 4,
 "nbformat_minor": 2
}
