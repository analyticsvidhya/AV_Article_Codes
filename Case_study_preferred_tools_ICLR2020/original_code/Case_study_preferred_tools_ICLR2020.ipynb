{
  "nbformat": 4,
  "nbformat_minor": 0,
  "metadata": {
    "kernelspec": {
      "display_name": "Python 3",
      "language": "python",
      "name": "python3"
    },
    "language_info": {
      "codemirror_mode": {
        "name": "ipython",
        "version": 3
      },
      "file_extension": ".py",
      "mimetype": "text/x-python",
      "name": "python",
      "nbconvert_exporter": "python",
      "pygments_lexer": "ipython3",
      "version": "3.7.3"
    },
    "colab": {
      "name": "Case_study_preferred_tools_ICLR2020.ipynb",
      "provenance": [],
      "include_colab_link": true
    }
  },
  "cells": [
    {
      "cell_type": "markdown",
      "metadata": {
        "id": "view-in-github",
        "colab_type": "text"
      },
      "source": [
        "<a href=\"https://colab.research.google.com/github/faizankshaikh/AV_Article_Codes/blob/master/Case_study_preferred_tools_ICLR2020/original_code/Case_study_preferred_tools_ICLR2020.ipynb\" target=\"_parent\"><img src=\"https://colab.research.google.com/assets/colab-badge.svg\" alt=\"Open In Colab\"/></a>"
      ]
    },
    {
      "cell_type": "code",
      "metadata": {
        "id": "hK-SsrOGZjBd",
        "colab_type": "code",
        "colab": {}
      },
      "source": [
        "!pip install openreview-py\n",
        "!pip install pipreqs"
      ],
      "execution_count": 0,
      "outputs": []
    },
    {
      "cell_type": "code",
      "metadata": {
        "id": "QRo-6UJ2ZjBm",
        "colab_type": "code",
        "colab": {}
      },
      "source": [
        "%matplotlib inline\n",
        "\n",
        "import os\n",
        "import re\n",
        "import sys\n",
        "import requests\n",
        "import openreview\n",
        "import pandas as pd\n",
        "import matplotlib.pyplot as plt\n",
        "\n",
        "from random import choice\n",
        "from wordcloud import WordCloud\n",
        "from urllib.parse import urlparse"
      ],
      "execution_count": 0,
      "outputs": []
    },
    {
      "cell_type": "code",
      "metadata": {
        "id": "N7DCgCBEZjBw",
        "colab_type": "code",
        "colab": {
          "base_uri": "https://localhost:8080/",
          "height": 34
        },
        "outputId": "0b119d2c-1196-4bfb-d4fc-3458e425ac2f"
      },
      "source": [
        "client = openreview.Client(baseurl=\"https://openreview.net\")\n",
        "\n",
        "blind_notes = {\n",
        "    note.id: note\n",
        "    for note in openreview.tools.iterget_notes(\n",
        "        client,\n",
        "        invitation=\"ICLR.cc/2020/Conference/-/Blind_Submission\",\n",
        "        details=\"original\",\n",
        "    )\n",
        "}\n",
        "\n",
        "all_decision_notes = openreview.tools.iterget_notes(\n",
        "    client, invitation=\"ICLR.cc/2020/Conference/Paper.*/-/Decision\"\n",
        ")\n",
        "\n",
        "accepted_submissions = [\n",
        "    blind_notes[decision_note.forum]\n",
        "    for decision_note in all_decision_notes\n",
        "    if \"Accept\" in decision_note.content[\"decision\"]\n",
        "]\n",
        "\n",
        "len(accepted_submissions)"
      ],
      "execution_count": 2,
      "outputs": [
        {
          "output_type": "execute_result",
          "data": {
            "text/plain": [
              "687"
            ]
          },
          "metadata": {
            "tags": []
          },
          "execution_count": 2
        }
      ]
    },
    {
      "cell_type": "code",
      "metadata": {
        "id": "4VZY4_AXZjB3",
        "colab_type": "code",
        "colab": {}
      },
      "source": [
        "code_present = 0\n",
        "code_links = []\n",
        "for note in accepted_submissions:\n",
        "    try:\n",
        "        code_links.append(note.content[\"code\"])\n",
        "        # print(\"code found\")\n",
        "        code_present += 1\n",
        "    except:\n",
        "        print(\"Unexpected error:\", sys.exc_info()[0])"
      ],
      "execution_count": 0,
      "outputs": []
    },
    {
      "cell_type": "code",
      "metadata": {
        "id": "UZhxqcAPZjB8",
        "colab_type": "code",
        "colab": {
          "base_uri": "https://localhost:8080/",
          "height": 34
        },
        "outputId": "b079815c-b786-42b7-e0b8-71f0252623cc"
      },
      "source": [
        "code_present"
      ],
      "execution_count": 4,
      "outputs": [
        {
          "output_type": "execute_result",
          "data": {
            "text/plain": [
              "344"
            ]
          },
          "metadata": {
            "tags": []
          },
          "execution_count": 4
        }
      ]
    },
    {
      "cell_type": "code",
      "metadata": {
        "id": "l3pZyZctZjCC",
        "colab_type": "code",
        "colab": {
          "base_uri": "https://localhost:8080/",
          "height": 54
        },
        "outputId": "911be15a-2ec1-4bdd-f4ae-69aa79bb4fd9"
      },
      "source": [
        "urlparse(choice(code_links))"
      ],
      "execution_count": 5,
      "outputs": [
        {
          "output_type": "execute_result",
          "data": {
            "text/plain": [
              "ParseResult(scheme='https', netloc='drive.google.com', path='/drive/folders/1kIOc4SlAJllUJsrr2OnZ4izIQIw2JexU', params='', query='usp=sharing', fragment='')"
            ]
          },
          "metadata": {
            "tags": []
          },
          "execution_count": 5
        }
      ]
    },
    {
      "cell_type": "code",
      "metadata": {
        "id": "Wym6x80tZjCJ",
        "colab_type": "code",
        "colab": {}
      },
      "source": [
        "code_links_df = pd.DataFrame({\"links\": code_links})"
      ],
      "execution_count": 0,
      "outputs": []
    },
    {
      "cell_type": "code",
      "metadata": {
        "id": "12Is5bPeZjCN",
        "colab_type": "code",
        "colab": {}
      },
      "source": [
        "code_links_df[\"domains\"] = code_links_df.links.apply(lambda x: urlparse(x)[1])"
      ],
      "execution_count": 0,
      "outputs": []
    },
    {
      "cell_type": "code",
      "metadata": {
        "id": "54IYMqW_ZjCR",
        "colab_type": "code",
        "colab": {
          "base_uri": "https://localhost:8080/",
          "height": 503
        },
        "outputId": "af66e02d-1009-4e54-fcf1-6c8da0dbb767"
      },
      "source": [
        "code_links_df.domains.value_counts()"
      ],
      "execution_count": 8,
      "outputs": [
        {
          "output_type": "execute_result",
          "data": {
            "text/plain": [
              "github.com                       268\n",
              "drive.google.com                  28\n",
              "www.dropbox.com                    9\n",
              "anonymous.4open.science            8\n",
              "bit.ly                             5\n",
              "storage.googleapis.com             3\n",
              "s000.tinyupload.com                2\n",
              "sites.google.com                   2\n",
              "docs.google.com                    1\n",
              "nikaashpuri.github.io              1\n",
              "nitishgupta.github.io              1\n",
              "clevrer.csail.mit.edu              1\n",
              "wgrathwohl.github.io               1\n",
              "dap.csail.mit.edu                  1\n",
              "www.robots.ox.ac.uk                1\n",
              "www.daml.in.tum.de                 1\n",
              "automated-discovery.github.io      1\n",
              "rohitgirdhar.github.io             1\n",
              "danijar.com                        1\n",
              "www.github.com                     1\n",
              "anonfile.com                       1\n",
              "goo.gl                             1\n",
              "toiaydcdyywlhzvlob.github.io       1\n",
              "whyu.me                            1\n",
              "www.sendspace.com                  1\n",
              "mega.nz                            1\n",
              "www.cs.cmu.edu                     1\n",
              "Name: domains, dtype: int64"
            ]
          },
          "metadata": {
            "tags": []
          },
          "execution_count": 8
        }
      ]
    },
    {
      "cell_type": "code",
      "metadata": {
        "id": "fnF84fCIZjCW",
        "colab_type": "code",
        "colab": {}
      },
      "source": [
        "temp_link = \"\"\n",
        "\n",
        "\n",
        "def clean_github_link(link):\n",
        "    link = link.strip()\n",
        "    if not link[-4:] == \".git\":\n",
        "        return link + \".git\"\n",
        "    else:\n",
        "        return link\n",
        "\n",
        "\n",
        "github_repo_links = (\n",
        "    code_links_df.loc[code_links_df.domains == \"github.com\"]\n",
        "    .links.apply(clean_github_link)\n",
        "    .values\n",
        ")"
      ],
      "execution_count": 0,
      "outputs": []
    },
    {
      "cell_type": "code",
      "metadata": {
        "id": "KokWVr08ZjCc",
        "colab_type": "code",
        "colab": {
          "base_uri": "https://localhost:8080/",
          "height": 764
        },
        "outputId": "46858585-9ff6-4bd7-c7eb-a3e5ff61e7f0"
      },
      "source": [
        "# takes about 24 minutes to download\n",
        "for link in github_repo_links:\n",
        "    !git clone $link --depth 1 --quiet"
      ],
      "execution_count": 10,
      "outputs": [
        {
          "output_type": "stream",
          "text": [
            "fatal: repository 'https://github.com/tensorflow/addons/blob/master/tensorflow_addons/optimizers/lamb.py.git/' not found\n",
            "fatal: repository 'https://github.com/carloderamo/shared/tree/master.git/' not found\n",
            "Cloning into 'proxsgd'...\n",
            "remote: Enumerating objects: 59, done.\u001b[K\n",
            "remote: Counting objects: 100% (59/59), done.\u001b[K\n",
            "remote: Compressing objects: 100% (45/45), done.\u001b[K\n",
            "remote: Total 59 (delta 19), reused 33 (delta 12), pack-reused 0\u001b[K\n",
            "Unpacking objects: 100% (59/59), done.\n",
            "/bin/bash: https://github.com/cc-hpc-itwm/proxsgd.git: No such file or directory\n",
            "fatal: repository 'https://github.com/suraj-nair-1/google-research/tree/master/hierarchical_foresight.git/' not found\n",
            "fatal: repository 'https://github.com/google-research/google-research/tree/master/cfq.git/' not found\n",
            "remote: Not Found\n",
            "fatal: repository 'https://github.com/hangg7/deformable-kernels/.git/' not found\n",
            "fatal: repository 'https://github.com/google-research/google-research/tree/master/meta_learning_without_memorization.git/' not found\n",
            "remote: Not Found\n",
            "fatal: repository 'https://github.com/GRAM-nets.git/' not found\n",
            "fatal: could not read Username for 'https://github.com': No such device or address\n",
            "remote: Not Found\n",
            "fatal: repository 'http://github.com/AvigdorZ.git/' not found\n",
            "fatal: repository 'https://github.com/google-research/language/tree/master/language/bert_extraction.git/' not found\n",
            "remote: Not Found\n",
            "fatal: repository 'https://github.com/anonymous-sushi-armadillo.git/' not found\n",
            "fatal: repository 'https://github.com/NeurEXT/NEXT-learning-to-plan/blob/master/main.ipynb.git/' not found\n",
            "fatal: repository 'https://github.com/tensorflow/federated/tree/master/tensorflow_federated/python/research/gans.git/' not found\n",
            "remote: Not Found\n",
            "fatal: repository 'https://github.com/snap-stanford/pretrain-gnns/.git/' not found\n",
            "remote: Not Found\n",
            "fatal: repository 'https://github.com/PKU-AI-Edge/DGN/.git/' not found\n",
            "fatal: repository 'https://github.com/google-research/google-research/tree/master/weak_disentangle.git/' not found\n",
            "fatal: repository 'https://github.com/google/trax/tree/master/trax/models/reformer.git/' not found\n",
            "Cloning into 'neural-tangent-kernel-UCI'...\n",
            "remote: Enumerating objects: 38, done.\u001b[K\n",
            "remote: Counting objects: 100% (38/38), done.\u001b[K\n",
            "remote: Compressing objects: 100% (30/30), done.\u001b[K\n",
            "remote: Total 38 (delta 16), reused 19 (delta 6), pack-reused 0\u001b[K\n",
            "Unpacking objects: 100% (38/38), done.\n",
            "/bin/bash: https://drive.google.com/open?id=1SdgWmhEcnm4qyaM9xrkN01VF9tj40WZS.git: No such file or directory\n",
            "remote: Not Found\n",
            "fatal: repository 'https://github.com/nathandelara/Spectral-Embedding-of-Regularized-Block-Models/.git/' not found\n",
            "fatal: could not read Username for 'https://github.com': No such device or address\n",
            "remote: Not Found\n",
            "fatal: repository 'https://github.com/deepsphere.git/' not found\n",
            "fatal: could not read Username for 'https://github.com': No such device or address\n"
          ],
          "name": "stdout"
        }
      ]
    },
    {
      "cell_type": "code",
      "metadata": {
        "id": "mkyBz3bKZjCh",
        "colab_type": "code",
        "colab": {
          "base_uri": "https://localhost:8080/",
          "height": 208
        },
        "outputId": "74c479f3-e31c-453a-f341-99ab4d5d1bb6"
      },
      "source": [
        "code_links_df.loc[code_links_df.domains == \"github.com\"].links.apply(\n",
        "    lambda x: urlparse(x)[2].split(\"/\")[1]\n",
        ").value_counts().head(10)"
      ],
      "execution_count": 11,
      "outputs": [
        {
          "output_type": "execute_result",
          "data": {
            "text/plain": [
              "google-research     10\n",
              "facebookresearch     4\n",
              "TAMU-VITA            3\n",
              "TonghanWang          2\n",
              "JHL-HUST             2\n",
              "automl               2\n",
              "epfml                2\n",
              "eth-sri              2\n",
              "haebeom-lee          2\n",
              "tensorflow           2\n",
              "Name: links, dtype: int64"
            ]
          },
          "metadata": {
            "tags": []
          },
          "execution_count": 11
        }
      ]
    },
    {
      "cell_type": "code",
      "metadata": {
        "id": "4CLEHCpLZjCm",
        "colab_type": "code",
        "colab": {}
      },
      "source": [
        "root = \".\"\n",
        "dirlist = [item for item in os.listdir(root) if os.path.isdir(os.path.join(root, item))]\n",
        "print(dirlist)"
      ],
      "execution_count": 0,
      "outputs": []
    },
    {
      "cell_type": "code",
      "metadata": {
        "id": "U90rMdkjZjCs",
        "colab_type": "code",
        "colab": {}
      },
      "source": [
        "dirlist.remove('.config')\n",
        "dirlist.remove('sample_data')"
      ],
      "execution_count": 0,
      "outputs": []
    },
    {
      "cell_type": "code",
      "metadata": {
        "id": "_seGdc8cZjCx",
        "colab_type": "code",
        "colab": {
          "base_uri": "https://localhost:8080/",
          "height": 34
        },
        "outputId": "f8592b2b-9f92-42ee-eb92-6abb34870035"
      },
      "source": [
        "len(dirlist)"
      ],
      "execution_count": 14,
      "outputs": [
        {
          "output_type": "execute_result",
          "data": {
            "text/plain": [
              "247"
            ]
          },
          "metadata": {
            "tags": []
          },
          "execution_count": 14
        }
      ]
    },
    {
      "cell_type": "code",
      "metadata": {
        "id": "QLx3abB8ZjC2",
        "colab_type": "code",
        "colab": {}
      },
      "source": [
        "# takes about 10 minutes to run\n",
        "for repo in dirlist:\n",
        "    path = \"/content/\" + repo\n",
        "    if os.path.exists(path + \"/requirements.txt\"):\n",
        "        pass\n",
        "    else:\n",
        "        !pipreqs $path"
      ],
      "execution_count": 0,
      "outputs": []
    },
    {
      "cell_type": "code",
      "metadata": {
        "id": "sLrWrQI0ZjC6",
        "colab_type": "code",
        "colab": {}
      },
      "source": [
        "has_req_cnt = no_req_cnt = 0\n",
        "for repo in dirlist:\n",
        "    path = \"/content/\" + repo\n",
        "    if os.path.exists(path + \"/requirements.txt\"):\n",
        "        has_req_cnt += 1\n",
        "    else:\n",
        "        no_req_cnt += 1"
      ],
      "execution_count": 0,
      "outputs": []
    },
    {
      "cell_type": "code",
      "metadata": {
        "id": "ODsvh3LrZjC-",
        "colab_type": "code",
        "colab": {
          "base_uri": "https://localhost:8080/",
          "height": 34
        },
        "outputId": "99a85edf-ad25-4c1b-e770-c43f879c03c8"
      },
      "source": [
        "has_req_cnt, no_req_cnt"
      ],
      "execution_count": 17,
      "outputs": [
        {
          "output_type": "execute_result",
          "data": {
            "text/plain": [
              "(237, 10)"
            ]
          },
          "metadata": {
            "tags": []
          },
          "execution_count": 17
        }
      ]
    },
    {
      "cell_type": "code",
      "metadata": {
        "id": "79lFy7-vZjDG",
        "colab_type": "code",
        "colab": {
          "base_uri": "https://localhost:8080/",
          "height": 191
        },
        "outputId": "f610a4f9-c393-477a-bb77-3bed4114c899"
      },
      "source": [
        "all_repo_names = []\n",
        "all_tool_names = []\n",
        "for repo in dirlist:\n",
        "    try:\n",
        "        repo_name = repo\n",
        "        with open(\"/content/\" + repo + \"/\" + \"requirements.txt\", \"r\") as f:\n",
        "            tools = f.readlines()\n",
        "        tool_names = \",\".join(tools).lower()\n",
        "\n",
        "        all_repo_names.append(repo_name)\n",
        "        all_tool_names.append(tool_names)\n",
        "    except:\n",
        "        print(\"Unexpected error for \", repo, sys.exc_info()[0])"
      ],
      "execution_count": 18,
      "outputs": [
        {
          "output_type": "stream",
          "text": [
            "Unexpected error for  SI-NI-FGSM <class 'FileNotFoundError'>\n",
            "Unexpected error for  space2vec <class 'FileNotFoundError'>\n",
            "Unexpected error for  synthfeedback <class 'FileNotFoundError'>\n",
            "Unexpected error for  QCNN <class 'FileNotFoundError'>\n",
            "Unexpected error for  GraN-DAG <class 'FileNotFoundError'>\n",
            "Unexpected error for  GLISTA <class 'FileNotFoundError'>\n",
            "Unexpected error for  ACMC_ICLR <class 'FileNotFoundError'>\n",
            "Unexpected error for  PCMC-Net <class 'FileNotFoundError'>\n",
            "Unexpected error for  pcl2pcl-gan-pub <class 'FileNotFoundError'>\n",
            "Unexpected error for  NAS-Benchmark <class 'FileNotFoundError'>\n"
          ],
          "name": "stdout"
        }
      ]
    },
    {
      "cell_type": "code",
      "metadata": {
        "id": "GDSgeOqvZjDJ",
        "colab_type": "code",
        "colab": {
          "base_uri": "https://localhost:8080/",
          "height": 206
        },
        "outputId": "01f1ceab-0ef8-4896-9f4b-5d7d59b73b3c"
      },
      "source": [
        "all_tools = pd.DataFrame(\n",
        "    {\"all_repo_names\": all_repo_names, \"all_tool_names\": all_tool_names}\n",
        ")\n",
        "all_tools.head()"
      ],
      "execution_count": 19,
      "outputs": [
        {
          "output_type": "execute_result",
          "data": {
            "text/html": [
              "<div>\n",
              "<style scoped>\n",
              "    .dataframe tbody tr th:only-of-type {\n",
              "        vertical-align: middle;\n",
              "    }\n",
              "\n",
              "    .dataframe tbody tr th {\n",
              "        vertical-align: top;\n",
              "    }\n",
              "\n",
              "    .dataframe thead th {\n",
              "        text-align: right;\n",
              "    }\n",
              "</style>\n",
              "<table border=\"1\" class=\"dataframe\">\n",
              "  <thead>\n",
              "    <tr style=\"text-align: right;\">\n",
              "      <th></th>\n",
              "      <th>all_repo_names</th>\n",
              "      <th>all_tool_names</th>\n",
              "    </tr>\n",
              "  </thead>\n",
              "  <tbody>\n",
              "    <tr>\n",
              "      <th>0</th>\n",
              "      <td>KP2D</td>\n",
              "      <td>\\n</td>\n",
              "    </tr>\n",
              "    <tr>\n",
              "      <th>1</th>\n",
              "      <td>CN-DPM</td>\n",
              "      <td>ipdb\\n,jupyterlab\\n,matplotlib\\n,numpy\\n,pyyam...</td>\n",
              "    </tr>\n",
              "    <tr>\n",
              "      <th>2</th>\n",
              "      <td>GLAD</td>\n",
              "      <td>numpy==1.18.3\\n,pandas==1.0.3\\n,matplotlib==3....</td>\n",
              "    </tr>\n",
              "    <tr>\n",
              "      <th>3</th>\n",
              "      <td>bert_score</td>\n",
              "      <td># pytorch\\n,torch&gt;=1.0.0\\n,# progress bars in ...</td>\n",
              "    </tr>\n",
              "    <tr>\n",
              "      <th>4</th>\n",
              "      <td>delay_stability</td>\n",
              "      <td>torchvision==0.6.0+cu101\\n,bokeh==1.4.0\\n,six=...</td>\n",
              "    </tr>\n",
              "  </tbody>\n",
              "</table>\n",
              "</div>"
            ],
            "text/plain": [
              "    all_repo_names                                     all_tool_names\n",
              "0             KP2D                                                 \\n\n",
              "1           CN-DPM  ipdb\\n,jupyterlab\\n,matplotlib\\n,numpy\\n,pyyam...\n",
              "2             GLAD  numpy==1.18.3\\n,pandas==1.0.3\\n,matplotlib==3....\n",
              "3       bert_score  # pytorch\\n,torch>=1.0.0\\n,# progress bars in ...\n",
              "4  delay_stability  torchvision==0.6.0+cu101\\n,bokeh==1.4.0\\n,six=..."
            ]
          },
          "metadata": {
            "tags": []
          },
          "execution_count": 19
        }
      ]
    },
    {
      "cell_type": "code",
      "metadata": {
        "id": "P1OBuccpZjDR",
        "colab_type": "code",
        "colab": {}
      },
      "source": [
        "all_tools.to_csv(\"all_tools.csv\", index=False)"
      ],
      "execution_count": 0,
      "outputs": []
    },
    {
      "cell_type": "code",
      "metadata": {
        "id": "i0Ee8N1TZjDV",
        "colab_type": "code",
        "colab": {}
      },
      "source": [
        "all_tools = pd.read_csv(\"all_tools.csv\")"
      ],
      "execution_count": 0,
      "outputs": []
    },
    {
      "cell_type": "code",
      "metadata": {
        "id": "DGNMEVu3ZjDZ",
        "colab_type": "code",
        "colab": {
          "base_uri": "https://localhost:8080/",
          "height": 206
        },
        "outputId": "e4970e86-fd07-4af8-f364-c08e7f6e9e91"
      },
      "source": [
        "all_tools.head()"
      ],
      "execution_count": 23,
      "outputs": [
        {
          "output_type": "execute_result",
          "data": {
            "text/html": [
              "<div>\n",
              "<style scoped>\n",
              "    .dataframe tbody tr th:only-of-type {\n",
              "        vertical-align: middle;\n",
              "    }\n",
              "\n",
              "    .dataframe tbody tr th {\n",
              "        vertical-align: top;\n",
              "    }\n",
              "\n",
              "    .dataframe thead th {\n",
              "        text-align: right;\n",
              "    }\n",
              "</style>\n",
              "<table border=\"1\" class=\"dataframe\">\n",
              "  <thead>\n",
              "    <tr style=\"text-align: right;\">\n",
              "      <th></th>\n",
              "      <th>all_repo_names</th>\n",
              "      <th>all_tool_names</th>\n",
              "    </tr>\n",
              "  </thead>\n",
              "  <tbody>\n",
              "    <tr>\n",
              "      <th>0</th>\n",
              "      <td>KP2D</td>\n",
              "      <td>\\n</td>\n",
              "    </tr>\n",
              "    <tr>\n",
              "      <th>1</th>\n",
              "      <td>CN-DPM</td>\n",
              "      <td>ipdb\\n,jupyterlab\\n,matplotlib\\n,numpy\\n,pyyam...</td>\n",
              "    </tr>\n",
              "    <tr>\n",
              "      <th>2</th>\n",
              "      <td>GLAD</td>\n",
              "      <td>numpy==1.18.3\\n,pandas==1.0.3\\n,matplotlib==3....</td>\n",
              "    </tr>\n",
              "    <tr>\n",
              "      <th>3</th>\n",
              "      <td>bert_score</td>\n",
              "      <td># pytorch\\n,torch&gt;=1.0.0\\n,# progress bars in ...</td>\n",
              "    </tr>\n",
              "    <tr>\n",
              "      <th>4</th>\n",
              "      <td>delay_stability</td>\n",
              "      <td>torchvision==0.6.0+cu101\\n,bokeh==1.4.0\\n,six=...</td>\n",
              "    </tr>\n",
              "  </tbody>\n",
              "</table>\n",
              "</div>"
            ],
            "text/plain": [
              "    all_repo_names                                     all_tool_names\n",
              "0             KP2D                                                 \\n\n",
              "1           CN-DPM  ipdb\\n,jupyterlab\\n,matplotlib\\n,numpy\\n,pyyam...\n",
              "2             GLAD  numpy==1.18.3\\n,pandas==1.0.3\\n,matplotlib==3....\n",
              "3       bert_score  # pytorch\\n,torch>=1.0.0\\n,# progress bars in ...\n",
              "4  delay_stability  torchvision==0.6.0+cu101\\n,bokeh==1.4.0\\n,six=..."
            ]
          },
          "metadata": {
            "tags": []
          },
          "execution_count": 23
        }
      ]
    },
    {
      "cell_type": "code",
      "metadata": {
        "id": "RagMLwxNZjDd",
        "colab_type": "code",
        "colab": {
          "base_uri": "https://localhost:8080/",
          "height": 34
        },
        "outputId": "637c271e-6aa0-41b8-d5bf-813b7dd77f86"
      },
      "source": [
        "all_tools.shape"
      ],
      "execution_count": 24,
      "outputs": [
        {
          "output_type": "execute_result",
          "data": {
            "text/plain": [
              "(237, 2)"
            ]
          },
          "metadata": {
            "tags": []
          },
          "execution_count": 24
        }
      ]
    },
    {
      "cell_type": "code",
      "metadata": {
        "id": "nI-_BeqlZjDg",
        "colab_type": "code",
        "colab": {}
      },
      "source": [
        "def cleaner(tool_list):\n",
        "    cleaned_list = \"\"\n",
        "    try:\n",
        "        cleaned_list = []\n",
        "        for tool in tool_list:\n",
        "            cleaned_tool = re.findall(\"^\\w+\", tool)\n",
        "            if not cleaned_tool:\n",
        "                pass\n",
        "            else:\n",
        "                cleaned_list.append(cleaned_tool[0])\n",
        "        cleaned_list = \",\".join(cleaned_list)\n",
        "        return cleaned_list\n",
        "    except:\n",
        "        tool_list = \",\".join(tool_list)\n",
        "        \"unclean_list\".join(tool_list)\n",
        "        return tool_list\n",
        "\n",
        "\n",
        "all_tools[\"all_tool_names_cleaned\"] = all_tools.all_tool_names.str.split(\",\").apply(\n",
        "    cleaner\n",
        ")"
      ],
      "execution_count": 0,
      "outputs": []
    },
    {
      "cell_type": "code",
      "metadata": {
        "id": "3rAuLEv_ZjDk",
        "colab_type": "code",
        "colab": {
          "base_uri": "https://localhost:8080/",
          "height": 206
        },
        "outputId": "b7cefaa4-fce9-4bbd-c912-8c0997f3acb3"
      },
      "source": [
        "all_tools.head()"
      ],
      "execution_count": 26,
      "outputs": [
        {
          "output_type": "execute_result",
          "data": {
            "text/html": [
              "<div>\n",
              "<style scoped>\n",
              "    .dataframe tbody tr th:only-of-type {\n",
              "        vertical-align: middle;\n",
              "    }\n",
              "\n",
              "    .dataframe tbody tr th {\n",
              "        vertical-align: top;\n",
              "    }\n",
              "\n",
              "    .dataframe thead th {\n",
              "        text-align: right;\n",
              "    }\n",
              "</style>\n",
              "<table border=\"1\" class=\"dataframe\">\n",
              "  <thead>\n",
              "    <tr style=\"text-align: right;\">\n",
              "      <th></th>\n",
              "      <th>all_repo_names</th>\n",
              "      <th>all_tool_names</th>\n",
              "      <th>all_tool_names_cleaned</th>\n",
              "    </tr>\n",
              "  </thead>\n",
              "  <tbody>\n",
              "    <tr>\n",
              "      <th>0</th>\n",
              "      <td>KP2D</td>\n",
              "      <td>\\n</td>\n",
              "      <td></td>\n",
              "    </tr>\n",
              "    <tr>\n",
              "      <th>1</th>\n",
              "      <td>CN-DPM</td>\n",
              "      <td>ipdb\\n,jupyterlab\\n,matplotlib\\n,numpy\\n,pyyam...</td>\n",
              "      <td>ipdb,jupyterlab,matplotlib,numpy,pyyaml,tensor...</td>\n",
              "    </tr>\n",
              "    <tr>\n",
              "      <th>2</th>\n",
              "      <td>GLAD</td>\n",
              "      <td>numpy==1.18.3\\n,pandas==1.0.3\\n,matplotlib==3....</td>\n",
              "      <td>numpy,pandas,matplotlib,scipy,torch,networkx,s...</td>\n",
              "    </tr>\n",
              "    <tr>\n",
              "      <th>3</th>\n",
              "      <td>bert_score</td>\n",
              "      <td># pytorch\\n,torch&gt;=1.0.0\\n,# progress bars in ...</td>\n",
              "      <td>torch,tqdm,transformers,matplotlib,pandas,numpy</td>\n",
              "    </tr>\n",
              "    <tr>\n",
              "      <th>4</th>\n",
              "      <td>delay_stability</td>\n",
              "      <td>torchvision==0.6.0+cu101\\n,bokeh==1.4.0\\n,six=...</td>\n",
              "      <td>torchvision,bokeh,six,torch,numpy,scipy,pandas...</td>\n",
              "    </tr>\n",
              "  </tbody>\n",
              "</table>\n",
              "</div>"
            ],
            "text/plain": [
              "    all_repo_names  ...                             all_tool_names_cleaned\n",
              "0             KP2D  ...                                                   \n",
              "1           CN-DPM  ...  ipdb,jupyterlab,matplotlib,numpy,pyyaml,tensor...\n",
              "2             GLAD  ...  numpy,pandas,matplotlib,scipy,torch,networkx,s...\n",
              "3       bert_score  ...    torch,tqdm,transformers,matplotlib,pandas,numpy\n",
              "4  delay_stability  ...  torchvision,bokeh,six,torch,numpy,scipy,pandas...\n",
              "\n",
              "[5 rows x 3 columns]"
            ]
          },
          "metadata": {
            "tags": []
          },
          "execution_count": 26
        }
      ]
    },
    {
      "cell_type": "code",
      "metadata": {
        "id": "P03pWqboZjDo",
        "colab_type": "code",
        "colab": {
          "base_uri": "https://localhost:8080/",
          "height": 34
        },
        "outputId": "0a257769-dc35-4df2-e20f-7e5ada034eb6"
      },
      "source": [
        "all_tools.all_tool_names_cleaned.str.contains(\"torch\").sum()"
      ],
      "execution_count": 27,
      "outputs": [
        {
          "output_type": "execute_result",
          "data": {
            "text/plain": [
              "154"
            ]
          },
          "metadata": {
            "tags": []
          },
          "execution_count": 27
        }
      ]
    },
    {
      "cell_type": "code",
      "metadata": {
        "id": "CWgrgRdyZjDs",
        "colab_type": "code",
        "colab": {}
      },
      "source": [
        "def give_score(tool_name, offset=0):\n",
        "    num = all_tools.all_tool_names_cleaned.str.contains(tool_name).sum()\n",
        "    num += offset\n",
        "    print(\n",
        "        \"Count of {} is {} and total usage is {}%\".format(\n",
        "            tool_name, num, round((num / all_tools.shape[0]) * 100, 4)\n",
        "        )\n",
        "    )"
      ],
      "execution_count": 0,
      "outputs": []
    },
    {
      "cell_type": "code",
      "metadata": {
        "id": "1FedkNKSZjDu",
        "colab_type": "code",
        "colab": {
          "base_uri": "https://localhost:8080/",
          "height": 104
        },
        "outputId": "24984407-aa28-45da-8cac-49a8c78ea135"
      },
      "source": [
        "give_score(\"torch\")\n",
        "print()\n",
        "give_score(\"tensorflow\", offset=12)\n",
        "print()\n",
        "give_score(\"keras\")"
      ],
      "execution_count": 29,
      "outputs": [
        {
          "output_type": "stream",
          "text": [
            "Count of torch is 154 and total usage is 64.9789%\n",
            "\n",
            "Count of tensorflow is 95 and total usage is 40.0844%\n",
            "\n",
            "Count of keras is 23 and total usage is 9.7046%\n"
          ],
          "name": "stdout"
        }
      ]
    },
    {
      "cell_type": "code",
      "metadata": {
        "id": "OqvzE1BcZjDx",
        "colab_type": "code",
        "colab": {
          "base_uri": "https://localhost:8080/",
          "height": 34
        },
        "outputId": "1f6048fa-466a-4e9e-9961-9ee1d0d8e16d"
      },
      "source": [
        "give_score(\"transformers\")"
      ],
      "execution_count": 30,
      "outputs": [
        {
          "output_type": "stream",
          "text": [
            "Count of transformers is 8 and total usage is 3.3755%\n"
          ],
          "name": "stdout"
        }
      ]
    },
    {
      "cell_type": "code",
      "metadata": {
        "id": "HAavc6raZjD1",
        "colab_type": "code",
        "colab": {
          "base_uri": "https://localhost:8080/",
          "height": 34
        },
        "outputId": "17ca19b8-af2c-4636-f340-eda3f9664cbc"
      },
      "source": [
        "give_score(\"tensorboard\")"
      ],
      "execution_count": 31,
      "outputs": [
        {
          "output_type": "stream",
          "text": [
            "Count of tensorboard is 56 and total usage is 23.6287%\n"
          ],
          "name": "stdout"
        }
      ]
    },
    {
      "cell_type": "code",
      "metadata": {
        "id": "1ff44m1lZjD4",
        "colab_type": "code",
        "colab": {
          "base_uri": "https://localhost:8080/",
          "height": 34
        },
        "outputId": "82c73d9f-a11f-4dc9-a35d-e6cdfd35482e"
      },
      "source": [
        "give_score(\"gym\")"
      ],
      "execution_count": 32,
      "outputs": [
        {
          "output_type": "stream",
          "text": [
            "Count of gym is 24 and total usage is 10.1266%\n"
          ],
          "name": "stdout"
        }
      ]
    },
    {
      "cell_type": "code",
      "metadata": {
        "id": "oA9wUHMwZjD6",
        "colab_type": "code",
        "colab": {
          "base_uri": "https://localhost:8080/",
          "height": 34
        },
        "outputId": "0615eabc-71b9-4465-f0b6-886eb0e5fd28"
      },
      "source": [
        "give_score(\"networkx\")"
      ],
      "execution_count": 33,
      "outputs": [
        {
          "output_type": "stream",
          "text": [
            "Count of networkx is 25 and total usage is 10.5485%\n"
          ],
          "name": "stdout"
        }
      ]
    },
    {
      "cell_type": "code",
      "metadata": {
        "id": "nwuwREqTZjD-",
        "colab_type": "code",
        "colab": {
          "base_uri": "https://localhost:8080/",
          "height": 34
        },
        "outputId": "8e70a8f1-fcd5-4614-e1f4-fb11c69dbcd7"
      },
      "source": [
        "all_tools.all_tool_names_cleaned.str.split(\",\", expand=True).stack().unique().shape"
      ],
      "execution_count": 34,
      "outputs": [
        {
          "output_type": "execute_result",
          "data": {
            "text/plain": [
              "(687,)"
            ]
          },
          "metadata": {
            "tags": []
          },
          "execution_count": 34
        }
      ]
    },
    {
      "cell_type": "code",
      "metadata": {
        "id": "GTxaa5PrZjEB",
        "colab_type": "code",
        "colab": {
          "base_uri": "https://localhost:8080/",
          "height": 903
        },
        "outputId": "a9bdf247-bc29-4972-a6d7-a1080338341d"
      },
      "source": [
        "all_tools.all_tool_names_cleaned.str.split(\",\", expand=True).stack().value_counts()[:50]"
      ],
      "execution_count": 35,
      "outputs": [
        {
          "output_type": "execute_result",
          "data": {
            "text/plain": [
              "numpy            206\n",
              "torch            156\n",
              "matplotlib       114\n",
              "scipy            110\n",
              "tensorflow        92\n",
              "tqdm              89\n",
              "torchvision       86\n",
              "pillow            70\n",
              "pandas            65\n",
              "scikit_learn      48\n",
              "keras             39\n",
              "tensorboardx      39\n",
              "scikit            31\n",
              "seaborn           30\n",
              "pyyaml            28\n",
              "six               27\n",
              "h5py              27\n",
              "requests          27\n",
              "tensorboard       25\n",
              "gym               25\n",
              "networkx          25\n",
              "python            23\n",
              "absl              23\n",
              "pytest            22\n",
              "imageio           20\n",
              "protobuf          19\n",
              "opencv_python     19\n",
              "ipython           18\n",
              "jupyter           15\n",
              "nltk              14\n",
              "joblib            14\n",
              "mkl               14\n",
              "opencv            13\n",
              "certifi           13\n",
              "                  13\n",
              "urllib3           13\n",
              "pyparsing         13\n",
              "cloudpickle       12\n",
              "termcolor         12\n",
              "click             12\n",
              "cycler            12\n",
              "mock              12\n",
              "kiwisolver        11\n",
              "chardet           11\n",
              "xorg              11\n",
              "idna              11\n",
              "pytz              11\n",
              "future            11\n",
              "absl_py           10\n",
              "boto3              9\n",
              "dtype: int64"
            ]
          },
          "metadata": {
            "tags": []
          },
          "execution_count": 35
        }
      ]
    },
    {
      "cell_type": "code",
      "metadata": {
        "id": "zCKA7u-oZjEE",
        "colab_type": "code",
        "colab": {
          "base_uri": "https://localhost:8080/",
          "height": 329
        },
        "outputId": "71d4ad24-2bd3-4c75-e05d-71f1cea7cf11"
      },
      "source": [
        "all_tools.all_tool_names_cleaned.str.split(\",\", expand=True).stack().value_counts()[\n",
        "    :10\n",
        "].plot(kind=\"bar\")"
      ],
      "execution_count": 36,
      "outputs": [
        {
          "output_type": "execute_result",
          "data": {
            "text/plain": [
              "<matplotlib.axes._subplots.AxesSubplot at 0x7fcf1d2362b0>"
            ]
          },
          "metadata": {
            "tags": []
          },
          "execution_count": 36
        },
        {
          "output_type": "display_data",
          "data": {
            "image/png": "[encoded data removed]",
            "text/plain": [
              "<Figure size 432x288 with 1 Axes>"
            ]
          },
          "metadata": {
            "tags": [],
            "needs_background": "light"
          }
        }
      ]
    },
    {
      "cell_type": "code",
      "metadata": {
        "id": "RNNkyCZZZjEH",
        "colab_type": "code",
        "colab": {
          "base_uri": "https://localhost:8080/",
          "height": 310
        },
        "outputId": "c079be69-5091-4af5-ba38-948bde1cb0cd"
      },
      "source": [
        "all_tool_string = \",\".join(all_tools.all_tool_names_cleaned)\n",
        "\n",
        "wordcloud = WordCloud(background_color=\"white\", max_words=100)\n",
        "wordcloud.generate(all_tool_string)\n",
        "\n",
        "plt.figure(figsize=(10, 20))\n",
        "plt.imshow(wordcloud)\n",
        "plt.axis(\"off\")\n",
        "plt.show()"
      ],
      "execution_count": 37,
      "outputs": [
        {
          "output_type": "display_data",
          "data": {
            "image/png": "[encoded data removed]",
            "text/plain": [
              "<Figure size 720x1440 with 1 Axes>"
            ]
          },
          "metadata": {
            "tags": [],
            "needs_background": "light"
          }
        }
      ]
    }
  ]
}